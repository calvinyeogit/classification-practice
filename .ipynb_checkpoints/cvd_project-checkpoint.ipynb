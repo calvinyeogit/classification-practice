{
 "cells": [
  {
   "cell_type": "markdown",
   "id": "f6b24bb8-dbb8-454f-934f-cf3eb4915006",
   "metadata": {},
   "source": [
    "# Import dependencies"
   ]
  },
  {
   "cell_type": "code",
   "execution_count": 1,
   "id": "d0b93cba-9d34-4d65-9f49-fde548471a91",
   "metadata": {},
   "outputs": [],
   "source": [
    "import pandas as pd\n",
    "from sklearn.preprocessing import StandardScaler, LabelEncoder\n",
    "from sklearn.model_selection import train_test_split\n",
    "from collections import Counter\n",
    "from sklearn.compose import ColumnTransformer\n",
    "from tensorflow.keras.models import Sequential\n",
    "from tensorflow.keras.layers import Dense, InputLayer\n",
    "from sklearn.metrics import classification_report\n",
    "from tensorflow.keras.utils import to_categorical\n",
    "import numpy as np"
   ]
  },
  {
   "cell_type": "markdown",
   "id": "56f97cda-77f8-44ec-ae49-6b142e072737",
   "metadata": {},
   "source": [
    "# Load dataset\n",
    "Task 1"
   ]
  },
  {
   "cell_type": "code",
   "execution_count": 2,
   "id": "dabc14c5-bd8f-45b4-baf2-fc34b3baaa28",
   "metadata": {},
   "outputs": [
    {
     "data": {
      "text/html": [
       "<div>\n",
       "<style scoped>\n",
       "    .dataframe tbody tr th:only-of-type {\n",
       "        vertical-align: middle;\n",
       "    }\n",
       "\n",
       "    .dataframe tbody tr th {\n",
       "        vertical-align: top;\n",
       "    }\n",
       "\n",
       "    .dataframe thead th {\n",
       "        text-align: right;\n",
       "    }\n",
       "</style>\n",
       "<table border=\"1\" class=\"dataframe\">\n",
       "  <thead>\n",
       "    <tr style=\"text-align: right;\">\n",
       "      <th></th>\n",
       "      <th>age</th>\n",
       "      <th>anaemia</th>\n",
       "      <th>creatinine_phosphokinase</th>\n",
       "      <th>diabetes</th>\n",
       "      <th>ejection_fraction</th>\n",
       "      <th>high_blood_pressure</th>\n",
       "      <th>platelets</th>\n",
       "      <th>serum_creatinine</th>\n",
       "      <th>serum_sodium</th>\n",
       "      <th>sex</th>\n",
       "      <th>smoking</th>\n",
       "      <th>time</th>\n",
       "      <th>DEATH_EVENT</th>\n",
       "    </tr>\n",
       "  </thead>\n",
       "  <tbody>\n",
       "    <tr>\n",
       "      <th>0</th>\n",
       "      <td>75.0</td>\n",
       "      <td>0</td>\n",
       "      <td>582</td>\n",
       "      <td>0</td>\n",
       "      <td>20</td>\n",
       "      <td>1</td>\n",
       "      <td>265000.00</td>\n",
       "      <td>1.9</td>\n",
       "      <td>130</td>\n",
       "      <td>1</td>\n",
       "      <td>0</td>\n",
       "      <td>4</td>\n",
       "      <td>1</td>\n",
       "    </tr>\n",
       "    <tr>\n",
       "      <th>1</th>\n",
       "      <td>55.0</td>\n",
       "      <td>0</td>\n",
       "      <td>7861</td>\n",
       "      <td>0</td>\n",
       "      <td>38</td>\n",
       "      <td>0</td>\n",
       "      <td>263358.03</td>\n",
       "      <td>1.1</td>\n",
       "      <td>136</td>\n",
       "      <td>1</td>\n",
       "      <td>0</td>\n",
       "      <td>6</td>\n",
       "      <td>1</td>\n",
       "    </tr>\n",
       "    <tr>\n",
       "      <th>2</th>\n",
       "      <td>65.0</td>\n",
       "      <td>0</td>\n",
       "      <td>146</td>\n",
       "      <td>0</td>\n",
       "      <td>20</td>\n",
       "      <td>0</td>\n",
       "      <td>162000.00</td>\n",
       "      <td>1.3</td>\n",
       "      <td>129</td>\n",
       "      <td>1</td>\n",
       "      <td>1</td>\n",
       "      <td>7</td>\n",
       "      <td>1</td>\n",
       "    </tr>\n",
       "    <tr>\n",
       "      <th>3</th>\n",
       "      <td>50.0</td>\n",
       "      <td>1</td>\n",
       "      <td>111</td>\n",
       "      <td>0</td>\n",
       "      <td>20</td>\n",
       "      <td>0</td>\n",
       "      <td>210000.00</td>\n",
       "      <td>1.9</td>\n",
       "      <td>137</td>\n",
       "      <td>1</td>\n",
       "      <td>0</td>\n",
       "      <td>7</td>\n",
       "      <td>1</td>\n",
       "    </tr>\n",
       "    <tr>\n",
       "      <th>4</th>\n",
       "      <td>65.0</td>\n",
       "      <td>1</td>\n",
       "      <td>160</td>\n",
       "      <td>1</td>\n",
       "      <td>20</td>\n",
       "      <td>0</td>\n",
       "      <td>327000.00</td>\n",
       "      <td>2.7</td>\n",
       "      <td>116</td>\n",
       "      <td>0</td>\n",
       "      <td>0</td>\n",
       "      <td>8</td>\n",
       "      <td>1</td>\n",
       "    </tr>\n",
       "  </tbody>\n",
       "</table>\n",
       "</div>"
      ],
      "text/plain": [
       "    age  anaemia  creatinine_phosphokinase  diabetes  ejection_fraction  \\\n",
       "0  75.0        0                       582         0                 20   \n",
       "1  55.0        0                      7861         0                 38   \n",
       "2  65.0        0                       146         0                 20   \n",
       "3  50.0        1                       111         0                 20   \n",
       "4  65.0        1                       160         1                 20   \n",
       "\n",
       "   high_blood_pressure  platelets  serum_creatinine  serum_sodium  sex  \\\n",
       "0                    1  265000.00               1.9           130    1   \n",
       "1                    0  263358.03               1.1           136    1   \n",
       "2                    0  162000.00               1.3           129    1   \n",
       "3                    0  210000.00               1.9           137    1   \n",
       "4                    0  327000.00               2.7           116    0   \n",
       "\n",
       "   smoking  time  DEATH_EVENT  \n",
       "0        0     4            1  \n",
       "1        0     6            1  \n",
       "2        1     7            1  \n",
       "3        0     7            1  \n",
       "4        0     8            1  "
      ]
     },
     "execution_count": 2,
     "metadata": {},
     "output_type": "execute_result"
    }
   ],
   "source": [
    "data = pd.read_csv('heart_failure_clinical_records_dataset.csv')\n",
    "data.head()"
   ]
  },
  {
   "cell_type": "markdown",
   "id": "dc8028e1-b9d0-45fa-a267-637e69d30660",
   "metadata": {},
   "source": [
    "# Inspect columns and datatypes\n",
    "Task 2"
   ]
  },
  {
   "cell_type": "code",
   "execution_count": 3,
   "id": "c61f5f14-0b9a-4108-8cc8-6165c7c23588",
   "metadata": {},
   "outputs": [
    {
     "name": "stdout",
     "output_type": "stream",
     "text": [
      "<class 'pandas.core.frame.DataFrame'>\n",
      "RangeIndex: 299 entries, 0 to 298\n",
      "Data columns (total 13 columns):\n",
      " #   Column                    Non-Null Count  Dtype  \n",
      "---  ------                    --------------  -----  \n",
      " 0   age                       299 non-null    float64\n",
      " 1   anaemia                   299 non-null    int64  \n",
      " 2   creatinine_phosphokinase  299 non-null    int64  \n",
      " 3   diabetes                  299 non-null    int64  \n",
      " 4   ejection_fraction         299 non-null    int64  \n",
      " 5   high_blood_pressure       299 non-null    int64  \n",
      " 6   platelets                 299 non-null    float64\n",
      " 7   serum_creatinine          299 non-null    float64\n",
      " 8   serum_sodium              299 non-null    int64  \n",
      " 9   sex                       299 non-null    int64  \n",
      " 10  smoking                   299 non-null    int64  \n",
      " 11  time                      299 non-null    int64  \n",
      " 12  DEATH_EVENT               299 non-null    int64  \n",
      "dtypes: float64(3), int64(10)\n",
      "memory usage: 30.5 KB\n"
     ]
    }
   ],
   "source": [
    "data.info()"
   ]
  },
  {
   "cell_type": "markdown",
   "id": "3919f54d-9113-4ecc-b91e-14f83eec9e5b",
   "metadata": {},
   "source": [
    "# Identify classes of labels column and count how many in each class\n",
    "Task 3"
   ]
  },
  {
   "cell_type": "code",
   "execution_count": 4,
   "id": "022d5a20-f1d9-4456-9122-3d8b791723f8",
   "metadata": {},
   "outputs": [
    {
     "name": "stdout",
     "output_type": "stream",
     "text": [
      "Classes and number of values in `data`:  Counter({0: 203, 1: 96})\n"
     ]
    }
   ],
   "source": [
    "print('Classes and number of values in `data`: ', Counter(data['DEATH_EVENT']))"
   ]
  },
  {
   "cell_type": "markdown",
   "id": "35c04c00-30d8-47c4-b2b9-8ded7d0733c6",
   "metadata": {},
   "source": [
    "# Extract label columns into pandas Series\n",
    "Task 4\n",
    "\n",
    "**DO NOT** use `y = data[['DEATH_EVENT']]` as it will generate a *pandas DataFrame* instead!"
   ]
  },
  {
   "cell_type": "code",
   "execution_count": 5,
   "id": "9f96ccf9-f013-40c4-b6c6-d3646fa1b227",
   "metadata": {},
   "outputs": [],
   "source": [
    "y = data['DEATH_EVENT']"
   ]
  },
  {
   "cell_type": "markdown",
   "id": "fdc99043-9737-4d16-98bb-d51006d0d347",
   "metadata": {},
   "source": [
    "# Extract features columns\n",
    "Task 5\n",
    "\n",
    "Select specific columns by name, not by position; using column names is safer and clearer, especially if the column order changes.\n",
    "\n",
    "(So don't use `X = data.iloc[:,0:-1]`)"
   ]
  },
  {
   "cell_type": "code",
   "execution_count": 6,
   "id": "3e8f73b2-344f-492e-ab2e-3f1bc83fdb80",
   "metadata": {},
   "outputs": [
    {
     "name": "stdout",
     "output_type": "stream",
     "text": [
      "Index(['age', 'anaemia', 'creatinine_phosphokinase', 'diabetes',\n",
      "       'ejection_fraction', 'high_blood_pressure', 'platelets',\n",
      "       'serum_creatinine', 'serum_sodium', 'sex', 'smoking', 'time',\n",
      "       'DEATH_EVENT'],\n",
      "      dtype='object')\n"
     ]
    }
   ],
   "source": [
    "print(data.columns)"
   ]
  },
  {
   "cell_type": "code",
   "execution_count": 7,
   "id": "064cae6f-85f5-43e6-b544-04d0bfa21bbf",
   "metadata": {},
   "outputs": [],
   "source": [
    "X = data[[\n",
    "    'age',\n",
    "    'anaemia',\n",
    "    'creatinine_phosphokinase',\n",
    "    'diabetes',\n",
    "    'ejection_fraction',\n",
    "    'high_blood_pressure',\n",
    "    'platelets',\n",
    "    'serum_creatinine',\n",
    "    'serum_sodium',\n",
    "    'sex',\n",
    "    'smoking',\n",
    "    'time'\n",
    "]]"
   ]
  },
  {
   "cell_type": "markdown",
   "id": "53222ba0-7cfb-4a56-90d6-da618aea94b6",
   "metadata": {},
   "source": [
    "# One-hot encode relevant columns in X\n",
    "Task 6\n",
    "\n",
    "But since `data` already has the categorical columns (`'anaemia', 'diabetes', 'high_blood_pressure', 'sex', 'smoking'`) as 1s and 0s (integers), you do not need to use one-hot encoding with `pd.get_dummies()` for those columns. We can skip task 6 in that case, since the features are already in a numeric format suitable for machine learning models."
   ]
  },
  {
   "cell_type": "markdown",
   "id": "1085ce2f-241a-4f1e-bfc8-c678a92a5e4e",
   "metadata": {},
   "source": [
    "# `train_test_split` data\n",
    "Task 7"
   ]
  },
  {
   "cell_type": "code",
   "execution_count": 8,
   "id": "22558ab8-7658-40bf-aaab-2356aff4b082",
   "metadata": {},
   "outputs": [],
   "source": [
    "X_train, X_test, y_train, y_test = train_test_split(X, y, test_size = .2, random_state = 420)"
   ]
  },
  {
   "cell_type": "markdown",
   "id": "daf9ed31-412a-4db9-a217-a5e4b284542c",
   "metadata": {},
   "source": [
    "# Scaling features\n",
    "Task 8\n",
    "\n",
    "`ColumnTransformer()` lets you apply different preprocessing steps to specific columns in your data.\n",
    "\n",
    "When you fit and transform your data with it, each transformation is applied to its specified columns, and the results are combined into a single output array."
   ]
  },
  {
   "cell_type": "code",
   "execution_count": 9,
   "id": "002c7a1b-943c-4efd-8c42-9be429911824",
   "metadata": {},
   "outputs": [],
   "source": [
    "ct = ColumnTransformer([(\n",
    "    'numeric',\n",
    "    # The string `'numeric'` in the `ColumnTransformer` is just a name or label for that transformation step.\n",
    "    # It helps you identify what the transformation is doing,\n",
    "    # especially if you have multiple steps (like scaling numeric features and encoding categorical features). \n",
    "    # It does not affect the transformation itself—it's only for reference and readability.\n",
    "    StandardScaler(),\n",
    "    [\n",
    "        'age',\n",
    "        'creatinine_phosphokinase',\n",
    "        'ejection_fraction',\n",
    "        'platelets',\n",
    "        'serum_creatinine',\n",
    "        'serum_sodium',\n",
    "        'time'\n",
    "    ]\n",
    ")])"
   ]
  },
  {
   "cell_type": "markdown",
   "id": "cb9058d7-8146-4ceb-83d7-0ab0d22977f4",
   "metadata": {},
   "source": [
    "# Apply `ct` on `X_train`\n",
    "Task 9"
   ]
  },
  {
   "cell_type": "code",
   "execution_count": 10,
   "id": "87e8d486-82b3-4bf9-9bbd-4a034feb2be4",
   "metadata": {},
   "outputs": [],
   "source": [
    "X_train = ct.fit_transform(X_train)"
   ]
  },
  {
   "cell_type": "markdown",
   "id": "0f806ae0-8b8a-4519-9424-73b22b6d3dd6",
   "metadata": {},
   "source": [
    "# Apply `ct` on `X_test`\n",
    "Task 10"
   ]
  },
  {
   "cell_type": "code",
   "execution_count": 11,
   "id": "6135482c-65f4-4b8e-8bf2-99a72ee4d5cb",
   "metadata": {},
   "outputs": [],
   "source": [
    "X_test = ct.transform(X_test)"
   ]
  },
  {
   "cell_type": "markdown",
   "id": "9b80aab9-fad6-4a01-9208-0f18ddbccd17",
   "metadata": {},
   "source": [
    "# Initialize `LabelEncoder`\n",
    "Task 11"
   ]
  },
  {
   "cell_type": "code",
   "execution_count": 12,
   "id": "b178df6b-ac9c-42da-b111-3628cbb4e932",
   "metadata": {},
   "outputs": [],
   "source": [
    "le = LabelEncoder()"
   ]
  },
  {
   "cell_type": "markdown",
   "id": "3bc929ce-565b-42f7-901c-eb522fa434d9",
   "metadata": {},
   "source": [
    "# Fit `le` to `y_train`\n",
    "Task 12\n",
    "\n",
    "`.astype(str)` converts the data in my_labels to strings. This is useful if your labels are not already strings, or if they are a mix of types (like integers and strings).\n",
    "\n",
    "`LabelEncoder` expects the input to be a consistent type. By converting to string, you make sure all values are treated the same way, which helps avoid errors during encoding."
   ]
  },
  {
   "cell_type": "code",
   "execution_count": 13,
   "id": "7f47dc6b-8e66-436a-ae90-fee644366812",
   "metadata": {},
   "outputs": [],
   "source": [
    "y_train = le.fit_transform(y_train.astype(str))"
   ]
  },
  {
   "cell_type": "markdown",
   "id": "7cbb344e-e9e3-4748-b19d-e7b0fbacff30",
   "metadata": {},
   "source": [
    "# Transform `y_test` using `le`\n",
    "Task 13"
   ]
  },
  {
   "cell_type": "code",
   "execution_count": 14,
   "id": "87b784b0-e821-472a-94dc-39fc925d9715",
   "metadata": {},
   "outputs": [],
   "source": [
    "y_test = le.transform(y_test.astype(str))"
   ]
  },
  {
   "cell_type": "markdown",
   "id": "29427ffd-1926-4542-b58e-fac69b436cfb",
   "metadata": {},
   "source": [
    "# Transform encoded training labels y_train into a binary vector\n",
    "Task 14"
   ]
  },
  {
   "cell_type": "code",
   "execution_count": 15,
   "id": "b8aa9b8b-86fe-4d33-9f71-8f9455298820",
   "metadata": {},
   "outputs": [],
   "source": [
    "y_train = to_categorical(y_train)"
   ]
  },
  {
   "cell_type": "markdown",
   "id": "a7253d2c-9c11-41df-817f-1c2ae076833f",
   "metadata": {},
   "source": [
    "# Transform encoded test labels y_test into a binary vector\n",
    "Task 15"
   ]
  },
  {
   "cell_type": "code",
   "execution_count": 16,
   "id": "a1c40aef-0565-4a3f-8c8c-3482dde0f95f",
   "metadata": {},
   "outputs": [],
   "source": [
    "y_test = to_categorical(y_test)"
   ]
  },
  {
   "cell_type": "markdown",
   "id": "f418fad0-653e-47a9-b2da-2d51386ee0b1",
   "metadata": {},
   "source": [
    "# Setting architecture\n",
    "Task 16"
   ]
  },
  {
   "cell_type": "code",
   "execution_count": 17,
   "id": "112aebac-be13-421a-82f0-8b891993ea1a",
   "metadata": {},
   "outputs": [],
   "source": [
    "model = Sequential()"
   ]
  },
  {
   "cell_type": "markdown",
   "id": "9eccfdf9-e2e6-4902-b037-d2bf49728d55",
   "metadata": {},
   "source": [
    "# Add input layer\n",
    "Task 17"
   ]
  },
  {
   "cell_type": "code",
   "execution_count": 18,
   "id": "bce58a1d-8d61-474b-95e6-d9c2e8f01f9f",
   "metadata": {},
   "outputs": [],
   "source": [
    "model.add(\n",
    "    InputLayer(\n",
    "        shape = (X_train.shape[1], )\n",
    "    )\n",
    ")"
   ]
  },
  {
   "cell_type": "markdown",
   "id": "67f99bb6-a96a-49a1-9c5b-b156db2061c0",
   "metadata": {},
   "source": [
    "# Add 12-neuron hidden layer with ReLU\n",
    "Task 18"
   ]
  },
  {
   "cell_type": "code",
   "execution_count": 19,
   "id": "7859be3f-00f6-495f-863e-b41652b0caa1",
   "metadata": {},
   "outputs": [],
   "source": [
    "model.add(\n",
    "    Dense(\n",
    "        12,\n",
    "        activation = 'relu'\n",
    "    )\n",
    ")"
   ]
  },
  {
   "cell_type": "markdown",
   "id": "079d3def-2ca7-4eb6-bec0-eaf7994a0d75",
   "metadata": {},
   "source": [
    "# Add an output layer with softmax\n",
    "Task 19"
   ]
  },
  {
   "cell_type": "code",
   "execution_count": 20,
   "id": "68e397bf-963a-4a1c-a1a8-2294658d12f2",
   "metadata": {},
   "outputs": [],
   "source": [
    "model.add(\n",
    "    Dense(\n",
    "        y_train.shape[1],\n",
    "        activation = 'softmax'\n",
    "    )\n",
    ")"
   ]
  },
  {
   "cell_type": "markdown",
   "id": "e18cce14-c164-43bf-b0dd-ee3bd973efcb",
   "metadata": {},
   "source": [
    "# Compile the model instance `model`\n",
    "Task 20"
   ]
  },
  {
   "cell_type": "code",
   "execution_count": 21,
   "id": "0ef0977e-7b90-4d8d-86f5-3e6ab8b0b389",
   "metadata": {},
   "outputs": [],
   "source": [
    "model.compile(\n",
    "    loss = 'categorical_crossentropy',\n",
    "    optimizer = 'adam',\n",
    "    metrics = ['accuracy']\n",
    ")"
   ]
  },
  {
   "cell_type": "markdown",
   "id": "c313896a-1dbf-4a04-9d47-da74a7143666",
   "metadata": {},
   "source": [
    "# Fit `model`\n",
    "Task 21"
   ]
  },
  {
   "cell_type": "code",
   "execution_count": 22,
   "id": "dd4a6228-e6e0-42b9-b0d0-8fc434ab25d6",
   "metadata": {},
   "outputs": [
    {
     "name": "stdout",
     "output_type": "stream",
     "text": [
      "Epoch 1/100\n",
      "\u001b[1m15/15\u001b[0m \u001b[32m━━━━━━━━━━━━━━━━━━━━\u001b[0m\u001b[37m\u001b[0m \u001b[1m0s\u001b[0m 703us/step - accuracy: 0.4393 - loss: 0.7599\n",
      "Epoch 2/100\n",
      "\u001b[1m15/15\u001b[0m \u001b[32m━━━━━━━━━━━━━━━━━━━━\u001b[0m\u001b[37m\u001b[0m \u001b[1m0s\u001b[0m 617us/step - accuracy: 0.5012 - loss: 0.7284\n",
      "Epoch 3/100\n",
      "\u001b[1m15/15\u001b[0m \u001b[32m━━━━━━━━━━━━━━━━━━━━\u001b[0m\u001b[37m\u001b[0m \u001b[1m0s\u001b[0m 580us/step - accuracy: 0.6285 - loss: 0.5973\n",
      "Epoch 4/100\n",
      "\u001b[1m15/15\u001b[0m \u001b[32m━━━━━━━━━━━━━━━━━━━━\u001b[0m\u001b[37m\u001b[0m \u001b[1m0s\u001b[0m 588us/step - accuracy: 0.6546 - loss: 0.6131\n",
      "Epoch 5/100\n",
      "\u001b[1m15/15\u001b[0m \u001b[32m━━━━━━━━━━━━━━━━━━━━\u001b[0m\u001b[37m\u001b[0m \u001b[1m0s\u001b[0m 577us/step - accuracy: 0.6673 - loss: 0.6377\n",
      "Epoch 6/100\n",
      "\u001b[1m15/15\u001b[0m \u001b[32m━━━━━━━━━━━━━━━━━━━━\u001b[0m\u001b[37m\u001b[0m \u001b[1m0s\u001b[0m 587us/step - accuracy: 0.7336 - loss: 0.5617\n",
      "Epoch 7/100\n",
      "\u001b[1m15/15\u001b[0m \u001b[32m━━━━━━━━━━━━━━━━━━━━\u001b[0m\u001b[37m\u001b[0m \u001b[1m0s\u001b[0m 514us/step - accuracy: 0.7720 - loss: 0.5386\n",
      "Epoch 8/100\n",
      "\u001b[1m15/15\u001b[0m \u001b[32m━━━━━━━━━━━━━━━━━━━━\u001b[0m\u001b[37m\u001b[0m \u001b[1m0s\u001b[0m 509us/step - accuracy: 0.8371 - loss: 0.5002\n",
      "Epoch 9/100\n",
      "\u001b[1m15/15\u001b[0m \u001b[32m━━━━━━━━━━━━━━━━━━━━\u001b[0m\u001b[37m\u001b[0m \u001b[1m0s\u001b[0m 500us/step - accuracy: 0.8121 - loss: 0.5190\n",
      "Epoch 10/100\n",
      "\u001b[1m15/15\u001b[0m \u001b[32m━━━━━━━━━━━━━━━━━━━━\u001b[0m\u001b[37m\u001b[0m \u001b[1m0s\u001b[0m 507us/step - accuracy: 0.7875 - loss: 0.5290\n",
      "Epoch 11/100\n",
      "\u001b[1m15/15\u001b[0m \u001b[32m━━━━━━━━━━━━━━━━━━━━\u001b[0m\u001b[37m\u001b[0m \u001b[1m0s\u001b[0m 505us/step - accuracy: 0.8036 - loss: 0.4925\n",
      "Epoch 12/100\n",
      "\u001b[1m15/15\u001b[0m \u001b[32m━━━━━━━━━━━━━━━━━━━━\u001b[0m\u001b[37m\u001b[0m \u001b[1m0s\u001b[0m 495us/step - accuracy: 0.8339 - loss: 0.4831\n",
      "Epoch 13/100\n",
      "\u001b[1m15/15\u001b[0m \u001b[32m━━━━━━━━━━━━━━━━━━━━\u001b[0m\u001b[37m\u001b[0m \u001b[1m0s\u001b[0m 504us/step - accuracy: 0.8532 - loss: 0.4659\n",
      "Epoch 14/100\n",
      "\u001b[1m15/15\u001b[0m \u001b[32m━━━━━━━━━━━━━━━━━━━━\u001b[0m\u001b[37m\u001b[0m \u001b[1m0s\u001b[0m 540us/step - accuracy: 0.8151 - loss: 0.4997\n",
      "Epoch 15/100\n",
      "\u001b[1m15/15\u001b[0m \u001b[32m━━━━━━━━━━━━━━━━━━━━\u001b[0m\u001b[37m\u001b[0m \u001b[1m0s\u001b[0m 570us/step - accuracy: 0.8266 - loss: 0.4399\n",
      "Epoch 16/100\n",
      "\u001b[1m15/15\u001b[0m \u001b[32m━━━━━━━━━━━━━━━━━━━━\u001b[0m\u001b[37m\u001b[0m \u001b[1m0s\u001b[0m 552us/step - accuracy: 0.8022 - loss: 0.4758\n",
      "Epoch 17/100\n",
      "\u001b[1m15/15\u001b[0m \u001b[32m━━━━━━━━━━━━━━━━━━━━\u001b[0m\u001b[37m\u001b[0m \u001b[1m0s\u001b[0m 4ms/step - accuracy: 0.8275 - loss: 0.4490 \n",
      "Epoch 18/100\n",
      "\u001b[1m15/15\u001b[0m \u001b[32m━━━━━━━━━━━━━━━━━━━━\u001b[0m\u001b[37m\u001b[0m \u001b[1m0s\u001b[0m 617us/step - accuracy: 0.8509 - loss: 0.4053\n",
      "Epoch 19/100\n",
      "\u001b[1m15/15\u001b[0m \u001b[32m━━━━━━━━━━━━━━━━━━━━\u001b[0m\u001b[37m\u001b[0m \u001b[1m0s\u001b[0m 558us/step - accuracy: 0.8501 - loss: 0.4015\n",
      "Epoch 20/100\n",
      "\u001b[1m15/15\u001b[0m \u001b[32m━━━━━━━━━━━━━━━━━━━━\u001b[0m\u001b[37m\u001b[0m \u001b[1m0s\u001b[0m 531us/step - accuracy: 0.8327 - loss: 0.4200\n",
      "Epoch 21/100\n",
      "\u001b[1m15/15\u001b[0m \u001b[32m━━━━━━━━━━━━━━━━━━━━\u001b[0m\u001b[37m\u001b[0m \u001b[1m0s\u001b[0m 535us/step - accuracy: 0.8441 - loss: 0.4177\n",
      "Epoch 22/100\n",
      "\u001b[1m15/15\u001b[0m \u001b[32m━━━━━━━━━━━━━━━━━━━━\u001b[0m\u001b[37m\u001b[0m \u001b[1m0s\u001b[0m 536us/step - accuracy: 0.8549 - loss: 0.3859\n",
      "Epoch 23/100\n",
      "\u001b[1m15/15\u001b[0m \u001b[32m━━━━━━━━━━━━━━━━━━━━\u001b[0m\u001b[37m\u001b[0m \u001b[1m0s\u001b[0m 535us/step - accuracy: 0.8771 - loss: 0.3420\n",
      "Epoch 24/100\n",
      "\u001b[1m15/15\u001b[0m \u001b[32m━━━━━━━━━━━━━━━━━━━━\u001b[0m\u001b[37m\u001b[0m \u001b[1m0s\u001b[0m 566us/step - accuracy: 0.8333 - loss: 0.4182\n",
      "Epoch 25/100\n",
      "\u001b[1m15/15\u001b[0m \u001b[32m━━━━━━━━━━━━━━━━━━━━\u001b[0m\u001b[37m\u001b[0m \u001b[1m0s\u001b[0m 524us/step - accuracy: 0.8390 - loss: 0.4143\n",
      "Epoch 26/100\n",
      "\u001b[1m15/15\u001b[0m \u001b[32m━━━━━━━━━━━━━━━━━━━━\u001b[0m\u001b[37m\u001b[0m \u001b[1m0s\u001b[0m 602us/step - accuracy: 0.8271 - loss: 0.4058\n",
      "Epoch 27/100\n",
      "\u001b[1m15/15\u001b[0m \u001b[32m━━━━━━━━━━━━━━━━━━━━\u001b[0m\u001b[37m\u001b[0m \u001b[1m0s\u001b[0m 576us/step - accuracy: 0.8636 - loss: 0.3521\n",
      "Epoch 28/100\n",
      "\u001b[1m15/15\u001b[0m \u001b[32m━━━━━━━━━━━━━━━━━━━━\u001b[0m\u001b[37m\u001b[0m \u001b[1m0s\u001b[0m 574us/step - accuracy: 0.8508 - loss: 0.4019\n",
      "Epoch 29/100\n",
      "\u001b[1m15/15\u001b[0m \u001b[32m━━━━━━━━━━━━━━━━━━━━\u001b[0m\u001b[37m\u001b[0m \u001b[1m0s\u001b[0m 568us/step - accuracy: 0.8435 - loss: 0.3836\n",
      "Epoch 30/100\n",
      "\u001b[1m15/15\u001b[0m \u001b[32m━━━━━━━━━━━━━━━━━━━━\u001b[0m\u001b[37m\u001b[0m \u001b[1m0s\u001b[0m 563us/step - accuracy: 0.8685 - loss: 0.3265\n",
      "Epoch 31/100\n",
      "\u001b[1m15/15\u001b[0m \u001b[32m━━━━━━━━━━━━━━━━━━━━\u001b[0m\u001b[37m\u001b[0m \u001b[1m0s\u001b[0m 589us/step - accuracy: 0.8693 - loss: 0.3588\n",
      "Epoch 32/100\n",
      "\u001b[1m15/15\u001b[0m \u001b[32m━━━━━━━━━━━━━━━━━━━━\u001b[0m\u001b[37m\u001b[0m \u001b[1m0s\u001b[0m 533us/step - accuracy: 0.8540 - loss: 0.3613\n",
      "Epoch 33/100\n",
      "\u001b[1m15/15\u001b[0m \u001b[32m━━━━━━━━━━━━━━━━━━━━\u001b[0m\u001b[37m\u001b[0m \u001b[1m0s\u001b[0m 547us/step - accuracy: 0.8400 - loss: 0.3805\n",
      "Epoch 34/100\n",
      "\u001b[1m15/15\u001b[0m \u001b[32m━━━━━━━━━━━━━━━━━━━━\u001b[0m\u001b[37m\u001b[0m \u001b[1m0s\u001b[0m 571us/step - accuracy: 0.8476 - loss: 0.3939\n",
      "Epoch 35/100\n",
      "\u001b[1m15/15\u001b[0m \u001b[32m━━━━━━━━━━━━━━━━━━━━\u001b[0m\u001b[37m\u001b[0m \u001b[1m0s\u001b[0m 538us/step - accuracy: 0.8748 - loss: 0.3486\n",
      "Epoch 36/100\n",
      "\u001b[1m15/15\u001b[0m \u001b[32m━━━━━━━━━━━━━━━━━━━━\u001b[0m\u001b[37m\u001b[0m \u001b[1m0s\u001b[0m 546us/step - accuracy: 0.8663 - loss: 0.3606\n",
      "Epoch 37/100\n",
      "\u001b[1m15/15\u001b[0m \u001b[32m━━━━━━━━━━━━━━━━━━━━\u001b[0m\u001b[37m\u001b[0m \u001b[1m0s\u001b[0m 592us/step - accuracy: 0.8635 - loss: 0.3373\n",
      "Epoch 38/100\n",
      "\u001b[1m15/15\u001b[0m \u001b[32m━━━━━━━━━━━━━━━━━━━━\u001b[0m\u001b[37m\u001b[0m \u001b[1m0s\u001b[0m 563us/step - accuracy: 0.8627 - loss: 0.3571\n",
      "Epoch 39/100\n",
      "\u001b[1m15/15\u001b[0m \u001b[32m━━━━━━━━━━━━━━━━━━━━\u001b[0m\u001b[37m\u001b[0m \u001b[1m0s\u001b[0m 545us/step - accuracy: 0.8552 - loss: 0.3683\n",
      "Epoch 40/100\n",
      "\u001b[1m15/15\u001b[0m \u001b[32m━━━━━━━━━━━━━━━━━━━━\u001b[0m\u001b[37m\u001b[0m \u001b[1m0s\u001b[0m 601us/step - accuracy: 0.8778 - loss: 0.3134\n",
      "Epoch 41/100\n",
      "\u001b[1m15/15\u001b[0m \u001b[32m━━━━━━━━━━━━━━━━━━━━\u001b[0m\u001b[37m\u001b[0m \u001b[1m0s\u001b[0m 543us/step - accuracy: 0.8675 - loss: 0.3268\n",
      "Epoch 42/100\n",
      "\u001b[1m15/15\u001b[0m \u001b[32m━━━━━━━━━━━━━━━━━━━━\u001b[0m\u001b[37m\u001b[0m \u001b[1m0s\u001b[0m 557us/step - accuracy: 0.8308 - loss: 0.3713\n",
      "Epoch 43/100\n",
      "\u001b[1m15/15\u001b[0m \u001b[32m━━━━━━━━━━━━━━━━━━━━\u001b[0m\u001b[37m\u001b[0m \u001b[1m0s\u001b[0m 540us/step - accuracy: 0.8654 - loss: 0.3598\n",
      "Epoch 44/100\n",
      "\u001b[1m15/15\u001b[0m \u001b[32m━━━━━━━━━━━━━━━━━━━━\u001b[0m\u001b[37m\u001b[0m \u001b[1m0s\u001b[0m 641us/step - accuracy: 0.8663 - loss: 0.3309\n",
      "Epoch 45/100\n",
      "\u001b[1m15/15\u001b[0m \u001b[32m━━━━━━━━━━━━━━━━━━━━\u001b[0m\u001b[37m\u001b[0m \u001b[1m0s\u001b[0m 565us/step - accuracy: 0.8650 - loss: 0.3213\n",
      "Epoch 46/100\n",
      "\u001b[1m15/15\u001b[0m \u001b[32m━━━━━━━━━━━━━━━━━━━━\u001b[0m\u001b[37m\u001b[0m \u001b[1m0s\u001b[0m 556us/step - accuracy: 0.8372 - loss: 0.3584\n",
      "Epoch 47/100\n",
      "\u001b[1m15/15\u001b[0m \u001b[32m━━━━━━━━━━━━━━━━━━━━\u001b[0m\u001b[37m\u001b[0m \u001b[1m0s\u001b[0m 546us/step - accuracy: 0.8662 - loss: 0.3511\n",
      "Epoch 48/100\n",
      "\u001b[1m15/15\u001b[0m \u001b[32m━━━━━━━━━━━━━━━━━━━━\u001b[0m\u001b[37m\u001b[0m \u001b[1m0s\u001b[0m 556us/step - accuracy: 0.8267 - loss: 0.3932\n",
      "Epoch 49/100\n",
      "\u001b[1m15/15\u001b[0m \u001b[32m━━━━━━━━━━━━━━━━━━━━\u001b[0m\u001b[37m\u001b[0m \u001b[1m0s\u001b[0m 591us/step - accuracy: 0.8730 - loss: 0.3194\n",
      "Epoch 50/100\n",
      "\u001b[1m15/15\u001b[0m \u001b[32m━━━━━━━━━━━━━━━━━━━━\u001b[0m\u001b[37m\u001b[0m \u001b[1m0s\u001b[0m 534us/step - accuracy: 0.8728 - loss: 0.2943\n",
      "Epoch 51/100\n",
      "\u001b[1m15/15\u001b[0m \u001b[32m━━━━━━━━━━━━━━━━━━━━\u001b[0m\u001b[37m\u001b[0m \u001b[1m0s\u001b[0m 588us/step - accuracy: 0.8731 - loss: 0.3206\n",
      "Epoch 52/100\n",
      "\u001b[1m15/15\u001b[0m \u001b[32m━━━━━━━━━━━━━━━━━━━━\u001b[0m\u001b[37m\u001b[0m \u001b[1m0s\u001b[0m 575us/step - accuracy: 0.8585 - loss: 0.3311\n",
      "Epoch 53/100\n",
      "\u001b[1m15/15\u001b[0m \u001b[32m━━━━━━━━━━━━━━━━━━━━\u001b[0m\u001b[37m\u001b[0m \u001b[1m0s\u001b[0m 527us/step - accuracy: 0.8743 - loss: 0.3149\n",
      "Epoch 54/100\n",
      "\u001b[1m15/15\u001b[0m \u001b[32m━━━━━━━━━━━━━━━━━━━━\u001b[0m\u001b[37m\u001b[0m \u001b[1m0s\u001b[0m 558us/step - accuracy: 0.8809 - loss: 0.2922\n",
      "Epoch 55/100\n",
      "\u001b[1m15/15\u001b[0m \u001b[32m━━━━━━━━━━━━━━━━━━━━\u001b[0m\u001b[37m\u001b[0m \u001b[1m0s\u001b[0m 571us/step - accuracy: 0.8600 - loss: 0.3388\n",
      "Epoch 56/100\n",
      "\u001b[1m15/15\u001b[0m \u001b[32m━━━━━━━━━━━━━━━━━━━━\u001b[0m\u001b[37m\u001b[0m \u001b[1m0s\u001b[0m 629us/step - accuracy: 0.8678 - loss: 0.3162\n",
      "Epoch 57/100\n",
      "\u001b[1m15/15\u001b[0m \u001b[32m━━━━━━━━━━━━━━━━━━━━\u001b[0m\u001b[37m\u001b[0m \u001b[1m0s\u001b[0m 562us/step - accuracy: 0.8557 - loss: 0.3061\n",
      "Epoch 58/100\n",
      "\u001b[1m15/15\u001b[0m \u001b[32m━━━━━━━━━━━━━━━━━━━━\u001b[0m\u001b[37m\u001b[0m \u001b[1m0s\u001b[0m 535us/step - accuracy: 0.8667 - loss: 0.3013\n",
      "Epoch 59/100\n",
      "\u001b[1m15/15\u001b[0m \u001b[32m━━━━━━━━━━━━━━━━━━━━\u001b[0m\u001b[37m\u001b[0m \u001b[1m0s\u001b[0m 568us/step - accuracy: 0.8681 - loss: 0.3236\n",
      "Epoch 60/100\n",
      "\u001b[1m15/15\u001b[0m \u001b[32m━━━━━━━━━━━━━━━━━━━━\u001b[0m\u001b[37m\u001b[0m \u001b[1m0s\u001b[0m 540us/step - accuracy: 0.8630 - loss: 0.3170\n",
      "Epoch 61/100\n",
      "\u001b[1m15/15\u001b[0m \u001b[32m━━━━━━━━━━━━━━━━━━━━\u001b[0m\u001b[37m\u001b[0m \u001b[1m0s\u001b[0m 529us/step - accuracy: 0.8750 - loss: 0.2939\n",
      "Epoch 62/100\n",
      "\u001b[1m15/15\u001b[0m \u001b[32m━━━━━━━━━━━━━━━━━━━━\u001b[0m\u001b[37m\u001b[0m \u001b[1m0s\u001b[0m 663us/step - accuracy: 0.8193 - loss: 0.3519\n",
      "Epoch 63/100\n",
      "\u001b[1m15/15\u001b[0m \u001b[32m━━━━━━━━━━━━━━━━━━━━\u001b[0m\u001b[37m\u001b[0m \u001b[1m0s\u001b[0m 586us/step - accuracy: 0.8572 - loss: 0.3349\n",
      "Epoch 64/100\n",
      "\u001b[1m15/15\u001b[0m \u001b[32m━━━━━━━━━━━━━━━━━━━━\u001b[0m\u001b[37m\u001b[0m \u001b[1m0s\u001b[0m 699us/step - accuracy: 0.8385 - loss: 0.3379\n",
      "Epoch 65/100\n",
      "\u001b[1m15/15\u001b[0m \u001b[32m━━━━━━━━━━━━━━━━━━━━\u001b[0m\u001b[37m\u001b[0m \u001b[1m0s\u001b[0m 903us/step - accuracy: 0.8484 - loss: 0.3274\n",
      "Epoch 66/100\n",
      "\u001b[1m15/15\u001b[0m \u001b[32m━━━━━━━━━━━━━━━━━━━━\u001b[0m\u001b[37m\u001b[0m \u001b[1m0s\u001b[0m 586us/step - accuracy: 0.8513 - loss: 0.2926\n",
      "Epoch 67/100\n",
      "\u001b[1m15/15\u001b[0m \u001b[32m━━━━━━━━━━━━━━━━━━━━\u001b[0m\u001b[37m\u001b[0m \u001b[1m0s\u001b[0m 768us/step - accuracy: 0.8320 - loss: 0.3433\n",
      "Epoch 68/100\n",
      "\u001b[1m15/15\u001b[0m \u001b[32m━━━━━━━━━━━━━━━━━━━━\u001b[0m\u001b[37m\u001b[0m \u001b[1m0s\u001b[0m 566us/step - accuracy: 0.8667 - loss: 0.3240\n",
      "Epoch 69/100\n",
      "\u001b[1m15/15\u001b[0m \u001b[32m━━━━━━━━━━━━━━━━━━━━\u001b[0m\u001b[37m\u001b[0m \u001b[1m0s\u001b[0m 537us/step - accuracy: 0.8759 - loss: 0.2956\n",
      "Epoch 70/100\n",
      "\u001b[1m15/15\u001b[0m \u001b[32m━━━━━━━━━━━━━━━━━━━━\u001b[0m\u001b[37m\u001b[0m \u001b[1m0s\u001b[0m 530us/step - accuracy: 0.8614 - loss: 0.3254\n",
      "Epoch 71/100\n",
      "\u001b[1m15/15\u001b[0m \u001b[32m━━━━━━━━━━━━━━━━━━━━\u001b[0m\u001b[37m\u001b[0m \u001b[1m0s\u001b[0m 551us/step - accuracy: 0.9052 - loss: 0.2489\n",
      "Epoch 72/100\n",
      "\u001b[1m15/15\u001b[0m \u001b[32m━━━━━━━━━━━━━━━━━━━━\u001b[0m\u001b[37m\u001b[0m \u001b[1m0s\u001b[0m 537us/step - accuracy: 0.8783 - loss: 0.2666\n",
      "Epoch 73/100\n",
      "\u001b[1m15/15\u001b[0m \u001b[32m━━━━━━━━━━━━━━━━━━━━\u001b[0m\u001b[37m\u001b[0m \u001b[1m0s\u001b[0m 525us/step - accuracy: 0.8651 - loss: 0.2952\n",
      "Epoch 74/100\n",
      "\u001b[1m15/15\u001b[0m \u001b[32m━━━━━━━━━━━━━━━━━━━━\u001b[0m\u001b[37m\u001b[0m \u001b[1m0s\u001b[0m 531us/step - accuracy: 0.8347 - loss: 0.3589\n",
      "Epoch 75/100\n",
      "\u001b[1m15/15\u001b[0m \u001b[32m━━━━━━━━━━━━━━━━━━━━\u001b[0m\u001b[37m\u001b[0m \u001b[1m0s\u001b[0m 524us/step - accuracy: 0.8416 - loss: 0.3090\n",
      "Epoch 76/100\n",
      "\u001b[1m15/15\u001b[0m \u001b[32m━━━━━━━━━━━━━━━━━━━━\u001b[0m\u001b[37m\u001b[0m \u001b[1m0s\u001b[0m 514us/step - accuracy: 0.8356 - loss: 0.3459\n",
      "Epoch 77/100\n",
      "\u001b[1m15/15\u001b[0m \u001b[32m━━━━━━━━━━━━━━━━━━━━\u001b[0m\u001b[37m\u001b[0m \u001b[1m0s\u001b[0m 525us/step - accuracy: 0.8620 - loss: 0.3070\n",
      "Epoch 78/100\n",
      "\u001b[1m15/15\u001b[0m \u001b[32m━━━━━━━━━━━━━━━━━━━━\u001b[0m\u001b[37m\u001b[0m \u001b[1m0s\u001b[0m 581us/step - accuracy: 0.8678 - loss: 0.3014\n",
      "Epoch 79/100\n",
      "\u001b[1m15/15\u001b[0m \u001b[32m━━━━━━━━━━━━━━━━━━━━\u001b[0m\u001b[37m\u001b[0m \u001b[1m0s\u001b[0m 533us/step - accuracy: 0.8762 - loss: 0.2770\n",
      "Epoch 80/100\n",
      "\u001b[1m15/15\u001b[0m \u001b[32m━━━━━━━━━━━━━━━━━━━━\u001b[0m\u001b[37m\u001b[0m \u001b[1m0s\u001b[0m 560us/step - accuracy: 0.8617 - loss: 0.3089\n",
      "Epoch 81/100\n",
      "\u001b[1m15/15\u001b[0m \u001b[32m━━━━━━━━━━━━━━━━━━━━\u001b[0m\u001b[37m\u001b[0m \u001b[1m0s\u001b[0m 528us/step - accuracy: 0.8575 - loss: 0.2878\n",
      "Epoch 82/100\n",
      "\u001b[1m15/15\u001b[0m \u001b[32m━━━━━━━━━━━━━━━━━━━━\u001b[0m\u001b[37m\u001b[0m \u001b[1m0s\u001b[0m 593us/step - accuracy: 0.8804 - loss: 0.2714\n",
      "Epoch 83/100\n",
      "\u001b[1m15/15\u001b[0m \u001b[32m━━━━━━━━━━━━━━━━━━━━\u001b[0m\u001b[37m\u001b[0m \u001b[1m0s\u001b[0m 558us/step - accuracy: 0.8375 - loss: 0.2944\n",
      "Epoch 84/100\n",
      "\u001b[1m15/15\u001b[0m \u001b[32m━━━━━━━━━━━━━━━━━━━━\u001b[0m\u001b[37m\u001b[0m \u001b[1m0s\u001b[0m 534us/step - accuracy: 0.8640 - loss: 0.2926\n",
      "Epoch 85/100\n",
      "\u001b[1m15/15\u001b[0m \u001b[32m━━━━━━━━━━━━━━━━━━━━\u001b[0m\u001b[37m\u001b[0m \u001b[1m0s\u001b[0m 527us/step - accuracy: 0.8691 - loss: 0.2646\n",
      "Epoch 86/100\n",
      "\u001b[1m15/15\u001b[0m \u001b[32m━━━━━━━━━━━━━━━━━━━━\u001b[0m\u001b[37m\u001b[0m \u001b[1m0s\u001b[0m 545us/step - accuracy: 0.8980 - loss: 0.2907\n",
      "Epoch 87/100\n",
      "\u001b[1m15/15\u001b[0m \u001b[32m━━━━━━━━━━━━━━━━━━━━\u001b[0m\u001b[37m\u001b[0m \u001b[1m0s\u001b[0m 570us/step - accuracy: 0.8670 - loss: 0.3006\n",
      "Epoch 88/100\n",
      "\u001b[1m15/15\u001b[0m \u001b[32m━━━━━━━━━━━━━━━━━━━━\u001b[0m\u001b[37m\u001b[0m \u001b[1m0s\u001b[0m 531us/step - accuracy: 0.8540 - loss: 0.2820\n",
      "Epoch 89/100\n",
      "\u001b[1m15/15\u001b[0m \u001b[32m━━━━━━━━━━━━━━━━━━━━\u001b[0m\u001b[37m\u001b[0m \u001b[1m0s\u001b[0m 532us/step - accuracy: 0.8522 - loss: 0.2989\n",
      "Epoch 90/100\n",
      "\u001b[1m15/15\u001b[0m \u001b[32m━━━━━━━━━━━━━━━━━━━━\u001b[0m\u001b[37m\u001b[0m \u001b[1m0s\u001b[0m 542us/step - accuracy: 0.8703 - loss: 0.2641\n",
      "Epoch 91/100\n",
      "\u001b[1m15/15\u001b[0m \u001b[32m━━━━━━━━━━━━━━━━━━━━\u001b[0m\u001b[37m\u001b[0m \u001b[1m0s\u001b[0m 551us/step - accuracy: 0.8650 - loss: 0.2750\n",
      "Epoch 92/100\n",
      "\u001b[1m15/15\u001b[0m \u001b[32m━━━━━━━━━━━━━━━━━━━━\u001b[0m\u001b[37m\u001b[0m \u001b[1m0s\u001b[0m 537us/step - accuracy: 0.8490 - loss: 0.3291\n",
      "Epoch 93/100\n",
      "\u001b[1m15/15\u001b[0m \u001b[32m━━━━━━━━━━━━━━━━━━━━\u001b[0m\u001b[37m\u001b[0m \u001b[1m0s\u001b[0m 533us/step - accuracy: 0.8609 - loss: 0.2908\n",
      "Epoch 94/100\n",
      "\u001b[1m15/15\u001b[0m \u001b[32m━━━━━━━━━━━━━━━━━━━━\u001b[0m\u001b[37m\u001b[0m \u001b[1m0s\u001b[0m 528us/step - accuracy: 0.8578 - loss: 0.2788\n",
      "Epoch 95/100\n",
      "\u001b[1m15/15\u001b[0m \u001b[32m━━━━━━━━━━━━━━━━━━━━\u001b[0m\u001b[37m\u001b[0m \u001b[1m0s\u001b[0m 572us/step - accuracy: 0.8431 - loss: 0.3122\n",
      "Epoch 96/100\n",
      "\u001b[1m15/15\u001b[0m \u001b[32m━━━━━━━━━━━━━━━━━━━━\u001b[0m\u001b[37m\u001b[0m \u001b[1m0s\u001b[0m 551us/step - accuracy: 0.8835 - loss: 0.2818\n",
      "Epoch 97/100\n",
      "\u001b[1m15/15\u001b[0m \u001b[32m━━━━━━━━━━━━━━━━━━━━\u001b[0m\u001b[37m\u001b[0m \u001b[1m0s\u001b[0m 536us/step - accuracy: 0.8699 - loss: 0.2913\n",
      "Epoch 98/100\n",
      "\u001b[1m15/15\u001b[0m \u001b[32m━━━━━━━━━━━━━━━━━━━━\u001b[0m\u001b[37m\u001b[0m \u001b[1m0s\u001b[0m 533us/step - accuracy: 0.8584 - loss: 0.3000\n",
      "Epoch 99/100\n",
      "\u001b[1m15/15\u001b[0m \u001b[32m━━━━━━━━━━━━━━━━━━━━\u001b[0m\u001b[37m\u001b[0m \u001b[1m0s\u001b[0m 541us/step - accuracy: 0.8621 - loss: 0.2906\n",
      "Epoch 100/100\n",
      "\u001b[1m15/15\u001b[0m \u001b[32m━━━━━━━━━━━━━━━━━━━━\u001b[0m\u001b[37m\u001b[0m \u001b[1m0s\u001b[0m 555us/step - accuracy: 0.8598 - loss: 0.3004\n"
     ]
    },
    {
     "data": {
      "text/plain": [
       "<keras.src.callbacks.history.History at 0x32ad3bf20>"
      ]
     },
     "execution_count": 22,
     "metadata": {},
     "output_type": "execute_result"
    }
   ],
   "source": [
    "model.fit(X_train, y_train, epochs = 100, batch_size = 16)"
   ]
  },
  {
   "cell_type": "markdown",
   "id": "4e64458d-c57f-4161-b448-a4a20e151b0d",
   "metadata": {},
   "source": [
    "# Evaluate trained model\n",
    "Task 22"
   ]
  },
  {
   "cell_type": "code",
   "execution_count": 23,
   "id": "18c0c588-ecd9-4091-abc6-2f891e03d987",
   "metadata": {},
   "outputs": [
    {
     "name": "stdout",
     "output_type": "stream",
     "text": [
      "\u001b[1m2/2\u001b[0m \u001b[32m━━━━━━━━━━━━━━━━━━━━\u001b[0m\u001b[37m\u001b[0m \u001b[1m0s\u001b[0m 5ms/step - accuracy: 0.7507 - loss: 0.4828 \n",
      "Final loss:  0.44637569785118103\n",
      "Final accuracy:  0.7666666507720947\n"
     ]
    }
   ],
   "source": [
    "loss, acc = model.evaluate(X_test, y_test)\n",
    "print('Final loss: ', loss)\n",
    "print('Final accuracy: ', acc)"
   ]
  },
  {
   "cell_type": "markdown",
   "id": "365b6cf7-82b7-4a18-b418-1db619666b68",
   "metadata": {},
   "source": [
    "# Get predictions for the test data `X_test`\n",
    "Task 23"
   ]
  },
  {
   "cell_type": "code",
   "execution_count": 24,
   "id": "dbb74d76-4628-4282-96fa-0d85b6a13d52",
   "metadata": {},
   "outputs": [
    {
     "name": "stdout",
     "output_type": "stream",
     "text": [
      "\u001b[1m2/2\u001b[0m \u001b[32m━━━━━━━━━━━━━━━━━━━━\u001b[0m\u001b[37m\u001b[0m \u001b[1m0s\u001b[0m 10ms/step\n"
     ]
    }
   ],
   "source": [
    "y_estimate = model.predict(X_test)"
   ]
  },
  {
   "cell_type": "markdown",
   "id": "77e44981-953f-4d56-bb1c-55efe8ed506b",
   "metadata": {},
   "source": [
    "# Use `argmax()` to select the indices of the true classes for each label encoding in `y_estimate`\n",
    "Task 24\n",
    "\n",
    "If you do not specify the `axis` in `np.argmax(y_estimate, axis=1)`, NumPy will use the default, which is `axis=None`. This means it will find the index of the maximum value in the **flattened** array, not along each row.\n",
    "\n",
    "For one-hot encoded labels, you want the index of the maximum value **for each row** (each sample), which is why you use `axis=1`. If you leave out `axis=1`, you will get a single value, not a vector of class labels for each sample."
   ]
  },
  {
   "cell_type": "code",
   "execution_count": 25,
   "id": "aae242b2-aad9-4062-96ea-7ba4ce7c2843",
   "metadata": {},
   "outputs": [],
   "source": [
    "y_estimate = np.argmax(y_estimate, axis = 1)"
   ]
  },
  {
   "cell_type": "markdown",
   "id": "ebdecb1c-20ab-4621-9270-3dbe0f784fe6",
   "metadata": {},
   "source": [
    "# Use `argmax()` to select the indices of the true classes for each label encoding in `y_test`\n",
    "Task 25\n",
    "\n",
    "If you do not specify the `axis` in `np.argmax(y_test, axis=1)`, NumPy will use the default, which is `axis=None`. This means it will find the index of the maximum value in the **flattened** array, not along each row.\n",
    "\n",
    "For one-hot encoded labels, you want the index of the maximum value **for each row** (each sample), which is why you use `axis=1`. If you leave out `axis=1`, you will get a single value, not a vector of class labels for each sample."
   ]
  },
  {
   "cell_type": "code",
   "execution_count": 26,
   "id": "a3926e17-c00a-4c0b-8a2b-bb3575342dc9",
   "metadata": {},
   "outputs": [],
   "source": [
    "y_true = np.argmax(y_test, axis = 1)"
   ]
  },
  {
   "cell_type": "markdown",
   "id": "53ebbad6-335f-432e-9bba-f582bf7d6b42",
   "metadata": {},
   "source": [
    "# Display classification_report\n",
    "Task 26"
   ]
  },
  {
   "cell_type": "code",
   "execution_count": 27,
   "id": "95bf569e-2f7c-423a-a427-e261def9f324",
   "metadata": {},
   "outputs": [
    {
     "name": "stdout",
     "output_type": "stream",
     "text": [
      "              precision    recall  f1-score   support\n",
      "\n",
      "           0       0.78      0.90      0.83        39\n",
      "           1       0.73      0.52      0.61        21\n",
      "\n",
      "    accuracy                           0.77        60\n",
      "   macro avg       0.76      0.71      0.72        60\n",
      "weighted avg       0.76      0.77      0.76        60\n",
      "\n"
     ]
    }
   ],
   "source": [
    "print(classification_report(y_true, y_estimate))"
   ]
  },
  {
   "cell_type": "code",
   "execution_count": null,
   "id": "2b9af01d-b3cb-4bba-a743-086d182b0122",
   "metadata": {},
   "outputs": [],
   "source": []
  }
 ],
 "metadata": {
  "kernelspec": {
   "display_name": "Python [conda env:base] *",
   "language": "python",
   "name": "conda-base-py"
  },
  "language_info": {
   "codemirror_mode": {
    "name": "ipython",
    "version": 3
   },
   "file_extension": ".py",
   "mimetype": "text/x-python",
   "name": "python",
   "nbconvert_exporter": "python",
   "pygments_lexer": "ipython3",
   "version": "3.12.2"
  }
 },
 "nbformat": 4,
 "nbformat_minor": 5
}
