{
 "cells": [
  {
   "cell_type": "markdown",
   "id": "f6b24bb8-dbb8-454f-934f-cf3eb4915006",
   "metadata": {},
   "source": [
    "# Import dependencies"
   ]
  },
  {
   "cell_type": "code",
   "execution_count": 1,
   "id": "d0b93cba-9d34-4d65-9f49-fde548471a91",
   "metadata": {},
   "outputs": [],
   "source": [
    "import pandas as pd\n",
    "from sklearn.preprocessing import StandardScaler, LabelEncoder\n",
    "from sklearn.model_selection import train_test_split\n",
    "from collections import Counter\n",
    "from sklearn.compose import ColumnTransformer\n",
    "from tensorflow.keras.models import Sequential\n",
    "from tensorflow.keras.layers import Dense, InputLayer, Dropout\n",
    "from tensorflow.keras.callbacks import EarlyStopping\n",
    "from sklearn.metrics import classification_report\n",
    "from tensorflow.keras.utils import to_categorical\n",
    "import numpy as np"
   ]
  },
  {
   "cell_type": "markdown",
   "id": "56f97cda-77f8-44ec-ae49-6b142e072737",
   "metadata": {},
   "source": [
    "# Load dataset\n",
    "Task 1"
   ]
  },
  {
   "cell_type": "code",
   "execution_count": 2,
   "id": "dabc14c5-bd8f-45b4-baf2-fc34b3baaa28",
   "metadata": {},
   "outputs": [
    {
     "data": {
      "text/html": [
       "<div>\n",
       "<style scoped>\n",
       "    .dataframe tbody tr th:only-of-type {\n",
       "        vertical-align: middle;\n",
       "    }\n",
       "\n",
       "    .dataframe tbody tr th {\n",
       "        vertical-align: top;\n",
       "    }\n",
       "\n",
       "    .dataframe thead th {\n",
       "        text-align: right;\n",
       "    }\n",
       "</style>\n",
       "<table border=\"1\" class=\"dataframe\">\n",
       "  <thead>\n",
       "    <tr style=\"text-align: right;\">\n",
       "      <th></th>\n",
       "      <th>age</th>\n",
       "      <th>anaemia</th>\n",
       "      <th>creatinine_phosphokinase</th>\n",
       "      <th>diabetes</th>\n",
       "      <th>ejection_fraction</th>\n",
       "      <th>high_blood_pressure</th>\n",
       "      <th>platelets</th>\n",
       "      <th>serum_creatinine</th>\n",
       "      <th>serum_sodium</th>\n",
       "      <th>sex</th>\n",
       "      <th>smoking</th>\n",
       "      <th>time</th>\n",
       "      <th>DEATH_EVENT</th>\n",
       "    </tr>\n",
       "  </thead>\n",
       "  <tbody>\n",
       "    <tr>\n",
       "      <th>0</th>\n",
       "      <td>75.0</td>\n",
       "      <td>0</td>\n",
       "      <td>582</td>\n",
       "      <td>0</td>\n",
       "      <td>20</td>\n",
       "      <td>1</td>\n",
       "      <td>265000.00</td>\n",
       "      <td>1.9</td>\n",
       "      <td>130</td>\n",
       "      <td>1</td>\n",
       "      <td>0</td>\n",
       "      <td>4</td>\n",
       "      <td>1</td>\n",
       "    </tr>\n",
       "    <tr>\n",
       "      <th>1</th>\n",
       "      <td>55.0</td>\n",
       "      <td>0</td>\n",
       "      <td>7861</td>\n",
       "      <td>0</td>\n",
       "      <td>38</td>\n",
       "      <td>0</td>\n",
       "      <td>263358.03</td>\n",
       "      <td>1.1</td>\n",
       "      <td>136</td>\n",
       "      <td>1</td>\n",
       "      <td>0</td>\n",
       "      <td>6</td>\n",
       "      <td>1</td>\n",
       "    </tr>\n",
       "    <tr>\n",
       "      <th>2</th>\n",
       "      <td>65.0</td>\n",
       "      <td>0</td>\n",
       "      <td>146</td>\n",
       "      <td>0</td>\n",
       "      <td>20</td>\n",
       "      <td>0</td>\n",
       "      <td>162000.00</td>\n",
       "      <td>1.3</td>\n",
       "      <td>129</td>\n",
       "      <td>1</td>\n",
       "      <td>1</td>\n",
       "      <td>7</td>\n",
       "      <td>1</td>\n",
       "    </tr>\n",
       "    <tr>\n",
       "      <th>3</th>\n",
       "      <td>50.0</td>\n",
       "      <td>1</td>\n",
       "      <td>111</td>\n",
       "      <td>0</td>\n",
       "      <td>20</td>\n",
       "      <td>0</td>\n",
       "      <td>210000.00</td>\n",
       "      <td>1.9</td>\n",
       "      <td>137</td>\n",
       "      <td>1</td>\n",
       "      <td>0</td>\n",
       "      <td>7</td>\n",
       "      <td>1</td>\n",
       "    </tr>\n",
       "    <tr>\n",
       "      <th>4</th>\n",
       "      <td>65.0</td>\n",
       "      <td>1</td>\n",
       "      <td>160</td>\n",
       "      <td>1</td>\n",
       "      <td>20</td>\n",
       "      <td>0</td>\n",
       "      <td>327000.00</td>\n",
       "      <td>2.7</td>\n",
       "      <td>116</td>\n",
       "      <td>0</td>\n",
       "      <td>0</td>\n",
       "      <td>8</td>\n",
       "      <td>1</td>\n",
       "    </tr>\n",
       "  </tbody>\n",
       "</table>\n",
       "</div>"
      ],
      "text/plain": [
       "    age  anaemia  creatinine_phosphokinase  diabetes  ejection_fraction  \\\n",
       "0  75.0        0                       582         0                 20   \n",
       "1  55.0        0                      7861         0                 38   \n",
       "2  65.0        0                       146         0                 20   \n",
       "3  50.0        1                       111         0                 20   \n",
       "4  65.0        1                       160         1                 20   \n",
       "\n",
       "   high_blood_pressure  platelets  serum_creatinine  serum_sodium  sex  \\\n",
       "0                    1  265000.00               1.9           130    1   \n",
       "1                    0  263358.03               1.1           136    1   \n",
       "2                    0  162000.00               1.3           129    1   \n",
       "3                    0  210000.00               1.9           137    1   \n",
       "4                    0  327000.00               2.7           116    0   \n",
       "\n",
       "   smoking  time  DEATH_EVENT  \n",
       "0        0     4            1  \n",
       "1        0     6            1  \n",
       "2        1     7            1  \n",
       "3        0     7            1  \n",
       "4        0     8            1  "
      ]
     },
     "execution_count": 2,
     "metadata": {},
     "output_type": "execute_result"
    }
   ],
   "source": [
    "data = pd.read_csv('heart_failure_clinical_records_dataset.csv')\n",
    "data.head()"
   ]
  },
  {
   "cell_type": "markdown",
   "id": "dc8028e1-b9d0-45fa-a267-637e69d30660",
   "metadata": {},
   "source": [
    "# Inspect columns and datatypes\n",
    "Task 2"
   ]
  },
  {
   "cell_type": "code",
   "execution_count": 3,
   "id": "c61f5f14-0b9a-4108-8cc8-6165c7c23588",
   "metadata": {},
   "outputs": [
    {
     "name": "stdout",
     "output_type": "stream",
     "text": [
      "<class 'pandas.core.frame.DataFrame'>\n",
      "RangeIndex: 299 entries, 0 to 298\n",
      "Data columns (total 13 columns):\n",
      " #   Column                    Non-Null Count  Dtype  \n",
      "---  ------                    --------------  -----  \n",
      " 0   age                       299 non-null    float64\n",
      " 1   anaemia                   299 non-null    int64  \n",
      " 2   creatinine_phosphokinase  299 non-null    int64  \n",
      " 3   diabetes                  299 non-null    int64  \n",
      " 4   ejection_fraction         299 non-null    int64  \n",
      " 5   high_blood_pressure       299 non-null    int64  \n",
      " 6   platelets                 299 non-null    float64\n",
      " 7   serum_creatinine          299 non-null    float64\n",
      " 8   serum_sodium              299 non-null    int64  \n",
      " 9   sex                       299 non-null    int64  \n",
      " 10  smoking                   299 non-null    int64  \n",
      " 11  time                      299 non-null    int64  \n",
      " 12  DEATH_EVENT               299 non-null    int64  \n",
      "dtypes: float64(3), int64(10)\n",
      "memory usage: 30.5 KB\n"
     ]
    }
   ],
   "source": [
    "data.info()"
   ]
  },
  {
   "cell_type": "markdown",
   "id": "3919f54d-9113-4ecc-b91e-14f83eec9e5b",
   "metadata": {},
   "source": [
    "# Identify classes of labels column and count how many in each class\n",
    "Task 3"
   ]
  },
  {
   "cell_type": "code",
   "execution_count": 4,
   "id": "022d5a20-f1d9-4456-9122-3d8b791723f8",
   "metadata": {},
   "outputs": [
    {
     "name": "stdout",
     "output_type": "stream",
     "text": [
      "Classes and number of values in `data`:  Counter({0: 203, 1: 96})\n"
     ]
    }
   ],
   "source": [
    "print('Classes and number of values in `data`: ', Counter(data['DEATH_EVENT']))"
   ]
  },
  {
   "cell_type": "markdown",
   "id": "35c04c00-30d8-47c4-b2b9-8ded7d0733c6",
   "metadata": {},
   "source": [
    "# Extract label columns into pandas Series\n",
    "Task 4\n",
    "\n",
    "**DO NOT** use `y = data[['DEATH_EVENT']]` as it will generate a *pandas DataFrame* instead!"
   ]
  },
  {
   "cell_type": "code",
   "execution_count": 5,
   "id": "9f96ccf9-f013-40c4-b6c6-d3646fa1b227",
   "metadata": {},
   "outputs": [],
   "source": [
    "y = data['DEATH_EVENT']"
   ]
  },
  {
   "cell_type": "markdown",
   "id": "fdc99043-9737-4d16-98bb-d51006d0d347",
   "metadata": {},
   "source": [
    "# Extract features columns\n",
    "Task 5\n",
    "\n",
    "Select specific columns by name, not by position; using column names is safer and clearer, especially if the column order changes.\n",
    "\n",
    "(So don't use `X = data.iloc[:,0:-1]`)"
   ]
  },
  {
   "cell_type": "code",
   "execution_count": 6,
   "id": "3e8f73b2-344f-492e-ab2e-3f1bc83fdb80",
   "metadata": {},
   "outputs": [
    {
     "name": "stdout",
     "output_type": "stream",
     "text": [
      "Index(['age', 'anaemia', 'creatinine_phosphokinase', 'diabetes',\n",
      "       'ejection_fraction', 'high_blood_pressure', 'platelets',\n",
      "       'serum_creatinine', 'serum_sodium', 'sex', 'smoking', 'time',\n",
      "       'DEATH_EVENT'],\n",
      "      dtype='object')\n"
     ]
    }
   ],
   "source": [
    "print(data.columns)"
   ]
  },
  {
   "cell_type": "code",
   "execution_count": 7,
   "id": "064cae6f-85f5-43e6-b544-04d0bfa21bbf",
   "metadata": {},
   "outputs": [],
   "source": [
    "X = data[[\n",
    "    'age',\n",
    "    'anaemia',\n",
    "    'creatinine_phosphokinase',\n",
    "    'diabetes',\n",
    "    'ejection_fraction',\n",
    "    'high_blood_pressure',\n",
    "    'platelets',\n",
    "    'serum_creatinine',\n",
    "    'serum_sodium',\n",
    "    'sex',\n",
    "    'smoking',\n",
    "    'time'\n",
    "]]"
   ]
  },
  {
   "cell_type": "markdown",
   "id": "53222ba0-7cfb-4a56-90d6-da618aea94b6",
   "metadata": {},
   "source": [
    "# One-hot encode relevant columns in X\n",
    "Task 6\n",
    "\n",
    "But since `data` already has the categorical columns (`'anaemia', 'diabetes', 'high_blood_pressure', 'sex', 'smoking'`) as 1s and 0s (integers), you do not need to use one-hot encoding with `pd.get_dummies()` for those columns. We can skip task 6 in that case, since the features are already in a numeric format suitable for machine learning models."
   ]
  },
  {
   "cell_type": "markdown",
   "id": "1085ce2f-241a-4f1e-bfc8-c678a92a5e4e",
   "metadata": {},
   "source": [
    "# `train_test_split` data\n",
    "Task 7"
   ]
  },
  {
   "cell_type": "code",
   "execution_count": 8,
   "id": "22558ab8-7658-40bf-aaab-2356aff4b082",
   "metadata": {},
   "outputs": [],
   "source": [
    "X_train, X_test, y_train, y_test = train_test_split(X, y, test_size = .2, random_state = 420)"
   ]
  },
  {
   "cell_type": "markdown",
   "id": "daf9ed31-412a-4db9-a217-a5e4b284542c",
   "metadata": {},
   "source": [
    "# Scaling features\n",
    "Task 8\n",
    "\n",
    "`ColumnTransformer()` lets you apply different preprocessing steps to specific columns in your data.\n",
    "\n",
    "When you fit and transform your data with it, each transformation is applied to its specified columns, and the results are combined into a single output array."
   ]
  },
  {
   "cell_type": "code",
   "execution_count": 9,
   "id": "002c7a1b-943c-4efd-8c42-9be429911824",
   "metadata": {},
   "outputs": [],
   "source": [
    "ct = ColumnTransformer([(\n",
    "    'numeric',\n",
    "    # The string `'numeric'` in the `ColumnTransformer` is just a name or label for that transformation step.\n",
    "    # It helps you identify what the transformation is doing,\n",
    "    # especially if you have multiple steps (like scaling numeric features and encoding categorical features). \n",
    "    # It does not affect the transformation itself—it's only for reference and readability.\n",
    "    StandardScaler(),\n",
    "    [\n",
    "        'age',\n",
    "        'creatinine_phosphokinase',\n",
    "        'ejection_fraction',\n",
    "        'platelets',\n",
    "        'serum_creatinine',\n",
    "        'serum_sodium',\n",
    "        'time'\n",
    "    ]\n",
    ")])"
   ]
  },
  {
   "cell_type": "markdown",
   "id": "cb9058d7-8146-4ceb-83d7-0ab0d22977f4",
   "metadata": {},
   "source": [
    "# Apply `ct` on `X_train`\n",
    "Task 9"
   ]
  },
  {
   "cell_type": "code",
   "execution_count": 10,
   "id": "87e8d486-82b3-4bf9-9bbd-4a034feb2be4",
   "metadata": {},
   "outputs": [],
   "source": [
    "X_train = ct.fit_transform(X_train)"
   ]
  },
  {
   "cell_type": "markdown",
   "id": "0f806ae0-8b8a-4519-9424-73b22b6d3dd6",
   "metadata": {},
   "source": [
    "# Apply `ct` on `X_test`\n",
    "Task 10"
   ]
  },
  {
   "cell_type": "code",
   "execution_count": 11,
   "id": "6135482c-65f4-4b8e-8bf2-99a72ee4d5cb",
   "metadata": {},
   "outputs": [],
   "source": [
    "X_test = ct.transform(X_test)"
   ]
  },
  {
   "cell_type": "markdown",
   "id": "9b80aab9-fad6-4a01-9208-0f18ddbccd17",
   "metadata": {},
   "source": [
    "# Initialize `LabelEncoder`\n",
    "Task 11"
   ]
  },
  {
   "cell_type": "code",
   "execution_count": 12,
   "id": "b178df6b-ac9c-42da-b111-3628cbb4e932",
   "metadata": {},
   "outputs": [],
   "source": [
    "le = LabelEncoder()"
   ]
  },
  {
   "cell_type": "markdown",
   "id": "3bc929ce-565b-42f7-901c-eb522fa434d9",
   "metadata": {},
   "source": [
    "# Fit `le` to `y_train`\n",
    "Task 12\n",
    "\n",
    "`.astype(str)` converts the data in my_labels to strings. This is useful if your labels are not already strings, or if they are a mix of types (like integers and strings).\n",
    "\n",
    "`LabelEncoder` expects the input to be a consistent type. By converting to string, you make sure all values are treated the same way, which helps avoid errors during encoding."
   ]
  },
  {
   "cell_type": "code",
   "execution_count": 13,
   "id": "7f47dc6b-8e66-436a-ae90-fee644366812",
   "metadata": {},
   "outputs": [],
   "source": [
    "y_train = le.fit_transform(y_train.astype(str))"
   ]
  },
  {
   "cell_type": "markdown",
   "id": "7cbb344e-e9e3-4748-b19d-e7b0fbacff30",
   "metadata": {},
   "source": [
    "# Transform `y_test` using `le`\n",
    "Task 13"
   ]
  },
  {
   "cell_type": "code",
   "execution_count": 14,
   "id": "87b784b0-e821-472a-94dc-39fc925d9715",
   "metadata": {},
   "outputs": [],
   "source": [
    "y_test = le.transform(y_test.astype(str))"
   ]
  },
  {
   "cell_type": "markdown",
   "id": "29427ffd-1926-4542-b58e-fac69b436cfb",
   "metadata": {},
   "source": [
    "# Transform encoded training labels y_train into a binary vector\n",
    "Task 14"
   ]
  },
  {
   "cell_type": "code",
   "execution_count": 15,
   "id": "b8aa9b8b-86fe-4d33-9f71-8f9455298820",
   "metadata": {},
   "outputs": [],
   "source": [
    "y_train = to_categorical(y_train)"
   ]
  },
  {
   "cell_type": "markdown",
   "id": "a7253d2c-9c11-41df-817f-1c2ae076833f",
   "metadata": {},
   "source": [
    "# Transform encoded test labels y_test into a binary vector\n",
    "Task 15"
   ]
  },
  {
   "cell_type": "code",
   "execution_count": 16,
   "id": "a1c40aef-0565-4a3f-8c8c-3482dde0f95f",
   "metadata": {},
   "outputs": [],
   "source": [
    "y_test = to_categorical(y_test)"
   ]
  },
  {
   "cell_type": "markdown",
   "id": "f418fad0-653e-47a9-b2da-2d51386ee0b1",
   "metadata": {},
   "source": [
    "# Setting architecture\n",
    "Task 16"
   ]
  },
  {
   "cell_type": "code",
   "execution_count": 17,
   "id": "112aebac-be13-421a-82f0-8b891993ea1a",
   "metadata": {},
   "outputs": [],
   "source": [
    "model = Sequential()"
   ]
  },
  {
   "cell_type": "markdown",
   "id": "9eccfdf9-e2e6-4902-b037-d2bf49728d55",
   "metadata": {},
   "source": [
    "# Add input layer\n",
    "Task 17"
   ]
  },
  {
   "cell_type": "code",
   "execution_count": 18,
   "id": "bce58a1d-8d61-474b-95e6-d9c2e8f01f9f",
   "metadata": {},
   "outputs": [],
   "source": [
    "model.add(\n",
    "    InputLayer(\n",
    "        shape = (X_train.shape[1], )\n",
    "    )\n",
    ")"
   ]
  },
  {
   "cell_type": "markdown",
   "id": "67f99bb6-a96a-49a1-9c5b-b156db2061c0",
   "metadata": {},
   "source": [
    "# Add hidden layers with ReLU\n",
    "Task 18"
   ]
  },
  {
   "cell_type": "code",
   "execution_count": 19,
   "id": "7859be3f-00f6-495f-863e-b41652b0caa1",
   "metadata": {},
   "outputs": [],
   "source": [
    "model.add(Dropout(0.1))\n",
    "model.add(\n",
    "    Dense(\n",
    "        512,\n",
    "        activation = 'relu'\n",
    "    )\n",
    ")\n",
    "model.add(Dropout(0.1))\n",
    "model.add(\n",
    "    Dense(\n",
    "        64,\n",
    "        activation = 'relu'\n",
    "    )\n",
    ")\n",
    "model.add(Dropout(0.1))\n",
    "model.add(\n",
    "    Dense(\n",
    "        16,\n",
    "        activation = 'relu'\n",
    "    )\n",
    ")"
   ]
  },
  {
   "cell_type": "markdown",
   "id": "079d3def-2ca7-4eb6-bec0-eaf7994a0d75",
   "metadata": {},
   "source": [
    "# Add an output layer with softmax\n",
    "Task 19"
   ]
  },
  {
   "cell_type": "code",
   "execution_count": 20,
   "id": "68e397bf-963a-4a1c-a1a8-2294658d12f2",
   "metadata": {},
   "outputs": [],
   "source": [
    "model.add(\n",
    "    Dense(\n",
    "        y_train.shape[1],\n",
    "        activation = 'softmax'\n",
    "    )\n",
    ")"
   ]
  },
  {
   "cell_type": "markdown",
   "id": "e18cce14-c164-43bf-b0dd-ee3bd973efcb",
   "metadata": {},
   "source": [
    "# Compile the model instance `model`\n",
    "Task 20"
   ]
  },
  {
   "cell_type": "code",
   "execution_count": 21,
   "id": "0ef0977e-7b90-4d8d-86f5-3e6ab8b0b389",
   "metadata": {},
   "outputs": [],
   "source": [
    "model.compile(\n",
    "    loss = 'categorical_crossentropy',\n",
    "    optimizer = 'adam',\n",
    "    metrics = ['accuracy']\n",
    ")"
   ]
  },
  {
   "cell_type": "markdown",
   "id": "c313896a-1dbf-4a04-9d47-da74a7143666",
   "metadata": {},
   "source": [
    "# Fit `model`\n",
    "Task 21"
   ]
  },
  {
   "cell_type": "code",
   "execution_count": 22,
   "id": "dd4a6228-e6e0-42b9-b0d0-8fc434ab25d6",
   "metadata": {},
   "outputs": [
    {
     "name": "stdout",
     "output_type": "stream",
     "text": [
      "Epoch 1/500\n",
      "\u001b[1m12/12\u001b[0m \u001b[32m━━━━━━━━━━━━━━━━━━━━\u001b[0m\u001b[37m\u001b[0m \u001b[1m0s\u001b[0m 5ms/step - accuracy: 0.7185 - loss: 0.6017 - val_accuracy: 0.6875 - val_loss: 0.5497\n",
      "Epoch 2/500\n",
      "\u001b[1m12/12\u001b[0m \u001b[32m━━━━━━━━━━━━━━━━━━━━\u001b[0m\u001b[37m\u001b[0m \u001b[1m0s\u001b[0m 2ms/step - accuracy: 0.6962 - loss: 0.4739 - val_accuracy: 0.7292 - val_loss: 0.5073\n",
      "Epoch 3/500\n",
      "\u001b[1m12/12\u001b[0m \u001b[32m━━━━━━━━━━━━━━━━━━━━\u001b[0m\u001b[37m\u001b[0m \u001b[1m0s\u001b[0m 2ms/step - accuracy: 0.7829 - loss: 0.4578 - val_accuracy: 0.7708 - val_loss: 0.5046\n",
      "Epoch 4/500\n",
      "\u001b[1m12/12\u001b[0m \u001b[32m━━━━━━━━━━━━━━━━━━━━\u001b[0m\u001b[37m\u001b[0m \u001b[1m0s\u001b[0m 2ms/step - accuracy: 0.8170 - loss: 0.4461 - val_accuracy: 0.7500 - val_loss: 0.4619\n",
      "Epoch 5/500\n",
      "\u001b[1m12/12\u001b[0m \u001b[32m━━━━━━━━━━━━━━━━━━━━\u001b[0m\u001b[37m\u001b[0m \u001b[1m0s\u001b[0m 2ms/step - accuracy: 0.8715 - loss: 0.3775 - val_accuracy: 0.7500 - val_loss: 0.4770\n",
      "Epoch 6/500\n",
      "\u001b[1m12/12\u001b[0m \u001b[32m━━━━━━━━━━━━━━━━━━━━\u001b[0m\u001b[37m\u001b[0m \u001b[1m0s\u001b[0m 2ms/step - accuracy: 0.7999 - loss: 0.4299 - val_accuracy: 0.7708 - val_loss: 0.4754\n",
      "Epoch 7/500\n",
      "\u001b[1m12/12\u001b[0m \u001b[32m━━━━━━━━━━━━━━━━━━━━\u001b[0m\u001b[37m\u001b[0m \u001b[1m0s\u001b[0m 2ms/step - accuracy: 0.8016 - loss: 0.4182 - val_accuracy: 0.7500 - val_loss: 0.4485\n",
      "Epoch 8/500\n",
      "\u001b[1m12/12\u001b[0m \u001b[32m━━━━━━━━━━━━━━━━━━━━\u001b[0m\u001b[37m\u001b[0m \u001b[1m0s\u001b[0m 2ms/step - accuracy: 0.8392 - loss: 0.3595 - val_accuracy: 0.7708 - val_loss: 0.4597\n",
      "Epoch 9/500\n",
      "\u001b[1m12/12\u001b[0m \u001b[32m━━━━━━━━━━━━━━━━━━━━\u001b[0m\u001b[37m\u001b[0m \u001b[1m0s\u001b[0m 2ms/step - accuracy: 0.8728 - loss: 0.3200 - val_accuracy: 0.7292 - val_loss: 0.4672\n",
      "Epoch 10/500\n",
      "\u001b[1m12/12\u001b[0m \u001b[32m━━━━━━━━━━━━━━━━━━━━\u001b[0m\u001b[37m\u001b[0m \u001b[1m0s\u001b[0m 2ms/step - accuracy: 0.8571 - loss: 0.3194 - val_accuracy: 0.7917 - val_loss: 0.4571\n",
      "Epoch 11/500\n",
      "\u001b[1m12/12\u001b[0m \u001b[32m━━━━━━━━━━━━━━━━━━━━\u001b[0m\u001b[37m\u001b[0m \u001b[1m0s\u001b[0m 2ms/step - accuracy: 0.8864 - loss: 0.2942 - val_accuracy: 0.7083 - val_loss: 0.5108\n",
      "Epoch 12/500\n",
      "\u001b[1m12/12\u001b[0m \u001b[32m━━━━━━━━━━━━━━━━━━━━\u001b[0m\u001b[37m\u001b[0m \u001b[1m0s\u001b[0m 2ms/step - accuracy: 0.8438 - loss: 0.3637 - val_accuracy: 0.7292 - val_loss: 0.5027\n",
      "Epoch 13/500\n",
      "\u001b[1m12/12\u001b[0m \u001b[32m━━━━━━━━━━━━━━━━━━━━\u001b[0m\u001b[37m\u001b[0m \u001b[1m0s\u001b[0m 2ms/step - accuracy: 0.9056 - loss: 0.2703 - val_accuracy: 0.6875 - val_loss: 0.5210\n",
      "Epoch 14/500\n",
      "\u001b[1m12/12\u001b[0m \u001b[32m━━━━━━━━━━━━━━━━━━━━\u001b[0m\u001b[37m\u001b[0m \u001b[1m0s\u001b[0m 2ms/step - accuracy: 0.8711 - loss: 0.3224 - val_accuracy: 0.7292 - val_loss: 0.4992\n",
      "Epoch 15/500\n",
      "\u001b[1m12/12\u001b[0m \u001b[32m━━━━━━━━━━━━━━━━━━━━\u001b[0m\u001b[37m\u001b[0m \u001b[1m0s\u001b[0m 2ms/step - accuracy: 0.8772 - loss: 0.2945 - val_accuracy: 0.7083 - val_loss: 0.5230\n",
      "Epoch 16/500\n",
      "\u001b[1m12/12\u001b[0m \u001b[32m━━━━━━━━━━━━━━━━━━━━\u001b[0m\u001b[37m\u001b[0m \u001b[1m0s\u001b[0m 2ms/step - accuracy: 0.8685 - loss: 0.2724 - val_accuracy: 0.7292 - val_loss: 0.4651\n",
      "Epoch 17/500\n",
      "\u001b[1m12/12\u001b[0m \u001b[32m━━━━━━━━━━━━━━━━━━━━\u001b[0m\u001b[37m\u001b[0m \u001b[1m0s\u001b[0m 2ms/step - accuracy: 0.8634 - loss: 0.2823 - val_accuracy: 0.7708 - val_loss: 0.4740\n",
      "Epoch 18/500\n",
      "\u001b[1m12/12\u001b[0m \u001b[32m━━━━━━━━━━━━━━━━━━━━\u001b[0m\u001b[37m\u001b[0m \u001b[1m0s\u001b[0m 2ms/step - accuracy: 0.8801 - loss: 0.3008 - val_accuracy: 0.7708 - val_loss: 0.4955\n",
      "Epoch 19/500\n",
      "\u001b[1m12/12\u001b[0m \u001b[32m━━━━━━━━━━━━━━━━━━━━\u001b[0m\u001b[37m\u001b[0m \u001b[1m0s\u001b[0m 2ms/step - accuracy: 0.8843 - loss: 0.2802 - val_accuracy: 0.7708 - val_loss: 0.4933\n",
      "Epoch 20/500\n",
      "\u001b[1m12/12\u001b[0m \u001b[32m━━━━━━━━━━━━━━━━━━━━\u001b[0m\u001b[37m\u001b[0m \u001b[1m0s\u001b[0m 2ms/step - accuracy: 0.8773 - loss: 0.2780 - val_accuracy: 0.7292 - val_loss: 0.5425\n",
      "Epoch 21/500\n",
      "\u001b[1m12/12\u001b[0m \u001b[32m━━━━━━━━━━━━━━━━━━━━\u001b[0m\u001b[37m\u001b[0m \u001b[1m0s\u001b[0m 2ms/step - accuracy: 0.8744 - loss: 0.2673 - val_accuracy: 0.7500 - val_loss: 0.4875\n",
      "Epoch 22/500\n",
      "\u001b[1m12/12\u001b[0m \u001b[32m━━━━━━━━━━━━━━━━━━━━\u001b[0m\u001b[37m\u001b[0m \u001b[1m0s\u001b[0m 2ms/step - accuracy: 0.8718 - loss: 0.2388 - val_accuracy: 0.6875 - val_loss: 0.5383\n",
      "Epoch 23/500\n",
      "\u001b[1m12/12\u001b[0m \u001b[32m━━━━━━━━━━━━━━━━━━━━\u001b[0m\u001b[37m\u001b[0m \u001b[1m0s\u001b[0m 2ms/step - accuracy: 0.8996 - loss: 0.2605 - val_accuracy: 0.7292 - val_loss: 0.5588\n",
      "Epoch 24/500\n",
      "\u001b[1m12/12\u001b[0m \u001b[32m━━━━━━━━━━━━━━━━━━━━\u001b[0m\u001b[37m\u001b[0m \u001b[1m0s\u001b[0m 2ms/step - accuracy: 0.8578 - loss: 0.2898 - val_accuracy: 0.6875 - val_loss: 0.6232\n",
      "Epoch 25/500\n",
      "\u001b[1m12/12\u001b[0m \u001b[32m━━━━━━━━━━━━━━━━━━━━\u001b[0m\u001b[37m\u001b[0m \u001b[1m0s\u001b[0m 2ms/step - accuracy: 0.8869 - loss: 0.2477 - val_accuracy: 0.7083 - val_loss: 0.5041\n",
      "Epoch 26/500\n",
      "\u001b[1m12/12\u001b[0m \u001b[32m━━━━━━━━━━━━━━━━━━━━\u001b[0m\u001b[37m\u001b[0m \u001b[1m0s\u001b[0m 2ms/step - accuracy: 0.8790 - loss: 0.2873 - val_accuracy: 0.7500 - val_loss: 0.5294\n",
      "Epoch 27/500\n",
      "\u001b[1m12/12\u001b[0m \u001b[32m━━━━━━━━━━━━━━━━━━━━\u001b[0m\u001b[37m\u001b[0m \u001b[1m0s\u001b[0m 2ms/step - accuracy: 0.8805 - loss: 0.2536 - val_accuracy: 0.7083 - val_loss: 0.5420\n",
      "Epoch 28/500\n",
      "\u001b[1m12/12\u001b[0m \u001b[32m━━━━━━━━━━━━━━━━━━━━\u001b[0m\u001b[37m\u001b[0m \u001b[1m0s\u001b[0m 2ms/step - accuracy: 0.8961 - loss: 0.2278 - val_accuracy: 0.7083 - val_loss: 0.5826\n",
      "Epoch 29/500\n",
      "\u001b[1m12/12\u001b[0m \u001b[32m━━━━━━━━━━━━━━━━━━━━\u001b[0m\u001b[37m\u001b[0m \u001b[1m0s\u001b[0m 2ms/step - accuracy: 0.9138 - loss: 0.1828 - val_accuracy: 0.7083 - val_loss: 0.5388\n",
      "Epoch 30/500\n",
      "\u001b[1m12/12\u001b[0m \u001b[32m━━━━━━━━━━━━━━━━━━━━\u001b[0m\u001b[37m\u001b[0m \u001b[1m0s\u001b[0m 2ms/step - accuracy: 0.8653 - loss: 0.2980 - val_accuracy: 0.7083 - val_loss: 0.5327\n",
      "Epoch 31/500\n",
      "\u001b[1m12/12\u001b[0m \u001b[32m━━━━━━━━━━━━━━━━━━━━\u001b[0m\u001b[37m\u001b[0m \u001b[1m0s\u001b[0m 2ms/step - accuracy: 0.8656 - loss: 0.2801 - val_accuracy: 0.7292 - val_loss: 0.5648\n",
      "Epoch 32/500\n",
      "\u001b[1m12/12\u001b[0m \u001b[32m━━━━━━━━━━━━━━━━━━━━\u001b[0m\u001b[37m\u001b[0m \u001b[1m0s\u001b[0m 2ms/step - accuracy: 0.8890 - loss: 0.2642 - val_accuracy: 0.7292 - val_loss: 0.5475\n",
      "Epoch 33/500\n",
      "\u001b[1m12/12\u001b[0m \u001b[32m━━━━━━━━━━━━━━━━━━━━\u001b[0m\u001b[37m\u001b[0m \u001b[1m0s\u001b[0m 2ms/step - accuracy: 0.9100 - loss: 0.2163 - val_accuracy: 0.7708 - val_loss: 0.5771\n",
      "Epoch 34/500\n",
      "\u001b[1m12/12\u001b[0m \u001b[32m━━━━━━━━━━━━━━━━━━━━\u001b[0m\u001b[37m\u001b[0m \u001b[1m0s\u001b[0m 2ms/step - accuracy: 0.8637 - loss: 0.2635 - val_accuracy: 0.7292 - val_loss: 0.5389\n",
      "Epoch 35/500\n",
      "\u001b[1m12/12\u001b[0m \u001b[32m━━━━━━━━━━━━━━━━━━━━\u001b[0m\u001b[37m\u001b[0m \u001b[1m0s\u001b[0m 2ms/step - accuracy: 0.9328 - loss: 0.2101 - val_accuracy: 0.7500 - val_loss: 0.6050\n",
      "Epoch 36/500\n",
      "\u001b[1m12/12\u001b[0m \u001b[32m━━━━━━━━━━━━━━━━━━━━\u001b[0m\u001b[37m\u001b[0m \u001b[1m0s\u001b[0m 2ms/step - accuracy: 0.9072 - loss: 0.2075 - val_accuracy: 0.7500 - val_loss: 0.5800\n",
      "Epoch 37/500\n",
      "\u001b[1m12/12\u001b[0m \u001b[32m━━━━━━━━━━━━━━━━━━━━\u001b[0m\u001b[37m\u001b[0m \u001b[1m0s\u001b[0m 2ms/step - accuracy: 0.9072 - loss: 0.2230 - val_accuracy: 0.7292 - val_loss: 0.6040\n",
      "Epoch 38/500\n",
      "\u001b[1m12/12\u001b[0m \u001b[32m━━━━━━━━━━━━━━━━━━━━\u001b[0m\u001b[37m\u001b[0m \u001b[1m0s\u001b[0m 2ms/step - accuracy: 0.9014 - loss: 0.2300 - val_accuracy: 0.7292 - val_loss: 0.5677\n",
      "Epoch 39/500\n",
      "\u001b[1m12/12\u001b[0m \u001b[32m━━━━━━━━━━━━━━━━━━━━\u001b[0m\u001b[37m\u001b[0m \u001b[1m0s\u001b[0m 2ms/step - accuracy: 0.9128 - loss: 0.2278 - val_accuracy: 0.7292 - val_loss: 0.5032\n",
      "Epoch 40/500\n",
      "\u001b[1m12/12\u001b[0m \u001b[32m━━━━━━━━━━━━━━━━━━━━\u001b[0m\u001b[37m\u001b[0m \u001b[1m0s\u001b[0m 2ms/step - accuracy: 0.9409 - loss: 0.2546 - val_accuracy: 0.7500 - val_loss: 0.6109\n",
      "Epoch 41/500\n",
      "\u001b[1m12/12\u001b[0m \u001b[32m━━━━━━━━━━━━━━━━━━━━\u001b[0m\u001b[37m\u001b[0m \u001b[1m0s\u001b[0m 2ms/step - accuracy: 0.8996 - loss: 0.2173 - val_accuracy: 0.7083 - val_loss: 0.6451\n",
      "Epoch 42/500\n",
      "\u001b[1m12/12\u001b[0m \u001b[32m━━━━━━━━━━━━━━━━━━━━\u001b[0m\u001b[37m\u001b[0m \u001b[1m0s\u001b[0m 2ms/step - accuracy: 0.9205 - loss: 0.2452 - val_accuracy: 0.7083 - val_loss: 0.6185\n",
      "Epoch 43/500\n",
      "\u001b[1m12/12\u001b[0m \u001b[32m━━━━━━━━━━━━━━━━━━━━\u001b[0m\u001b[37m\u001b[0m \u001b[1m0s\u001b[0m 2ms/step - accuracy: 0.9155 - loss: 0.1775 - val_accuracy: 0.7292 - val_loss: 0.5463\n",
      "Epoch 44/500\n",
      "\u001b[1m12/12\u001b[0m \u001b[32m━━━━━━━━━━━━━━━━━━━━\u001b[0m\u001b[37m\u001b[0m \u001b[1m0s\u001b[0m 2ms/step - accuracy: 0.9285 - loss: 0.1599 - val_accuracy: 0.7292 - val_loss: 0.5376\n",
      "Epoch 45/500\n",
      "\u001b[1m12/12\u001b[0m \u001b[32m━━━━━━━━━━━━━━━━━━━━\u001b[0m\u001b[37m\u001b[0m \u001b[1m0s\u001b[0m 2ms/step - accuracy: 0.9330 - loss: 0.2294 - val_accuracy: 0.7500 - val_loss: 0.5717\n",
      "Epoch 46/500\n",
      "\u001b[1m12/12\u001b[0m \u001b[32m━━━━━━━━━━━━━━━━━━━━\u001b[0m\u001b[37m\u001b[0m \u001b[1m0s\u001b[0m 2ms/step - accuracy: 0.9597 - loss: 0.1177 - val_accuracy: 0.7500 - val_loss: 0.6292\n",
      "Epoch 47/500\n",
      "\u001b[1m12/12\u001b[0m \u001b[32m━━━━━━━━━━━━━━━━━━━━\u001b[0m\u001b[37m\u001b[0m \u001b[1m0s\u001b[0m 2ms/step - accuracy: 0.9359 - loss: 0.1720 - val_accuracy: 0.7083 - val_loss: 0.6645\n",
      "Epoch 48/500\n",
      "\u001b[1m12/12\u001b[0m \u001b[32m━━━━━━━━━━━━━━━━━━━━\u001b[0m\u001b[37m\u001b[0m \u001b[1m0s\u001b[0m 2ms/step - accuracy: 0.9286 - loss: 0.1840 - val_accuracy: 0.7708 - val_loss: 0.6000\n",
      "Epoch 49/500\n",
      "\u001b[1m12/12\u001b[0m \u001b[32m━━━━━━━━━━━━━━━━━━━━\u001b[0m\u001b[37m\u001b[0m \u001b[1m0s\u001b[0m 2ms/step - accuracy: 0.9001 - loss: 0.2050 - val_accuracy: 0.7292 - val_loss: 0.7150\n",
      "Epoch 50/500\n",
      "\u001b[1m12/12\u001b[0m \u001b[32m━━━━━━━━━━━━━━━━━━━━\u001b[0m\u001b[37m\u001b[0m \u001b[1m0s\u001b[0m 2ms/step - accuracy: 0.9485 - loss: 0.1600 - val_accuracy: 0.7083 - val_loss: 0.6520\n",
      "Epoch 51/500\n",
      "\u001b[1m12/12\u001b[0m \u001b[32m━━━━━━━━━━━━━━━━━━━━\u001b[0m\u001b[37m\u001b[0m \u001b[1m0s\u001b[0m 2ms/step - accuracy: 0.9179 - loss: 0.2139 - val_accuracy: 0.7500 - val_loss: 0.7021\n",
      "Epoch 52/500\n",
      "\u001b[1m12/12\u001b[0m \u001b[32m━━━━━━━━━━━━━━━━━━━━\u001b[0m\u001b[37m\u001b[0m \u001b[1m0s\u001b[0m 2ms/step - accuracy: 0.9259 - loss: 0.2639 - val_accuracy: 0.7292 - val_loss: 0.6302\n",
      "Epoch 53/500\n",
      "\u001b[1m12/12\u001b[0m \u001b[32m━━━━━━━━━━━━━━━━━━━━\u001b[0m\u001b[37m\u001b[0m \u001b[1m0s\u001b[0m 2ms/step - accuracy: 0.9298 - loss: 0.1916 - val_accuracy: 0.7292 - val_loss: 0.6533\n",
      "Epoch 54/500\n",
      "\u001b[1m12/12\u001b[0m \u001b[32m━━━━━━━━━━━━━━━━━━━━\u001b[0m\u001b[37m\u001b[0m \u001b[1m0s\u001b[0m 2ms/step - accuracy: 0.9459 - loss: 0.1682 - val_accuracy: 0.7083 - val_loss: 0.6809\n",
      "Epoch 55/500\n",
      "\u001b[1m12/12\u001b[0m \u001b[32m━━━━━━━━━━━━━━━━━━━━\u001b[0m\u001b[37m\u001b[0m \u001b[1m0s\u001b[0m 2ms/step - accuracy: 0.9255 - loss: 0.2253 - val_accuracy: 0.7083 - val_loss: 0.6920\n",
      "Epoch 56/500\n",
      "\u001b[1m12/12\u001b[0m \u001b[32m━━━━━━━━━━━━━━━━━━━━\u001b[0m\u001b[37m\u001b[0m \u001b[1m0s\u001b[0m 2ms/step - accuracy: 0.9258 - loss: 0.1643 - val_accuracy: 0.7708 - val_loss: 0.6304\n",
      "Epoch 57/500\n",
      "\u001b[1m12/12\u001b[0m \u001b[32m━━━━━━━━━━━━━━━━━━━━\u001b[0m\u001b[37m\u001b[0m \u001b[1m0s\u001b[0m 3ms/step - accuracy: 0.9224 - loss: 0.1969 - val_accuracy: 0.7292 - val_loss: 0.6887\n",
      "Epoch 58/500\n",
      "\u001b[1m12/12\u001b[0m \u001b[32m━━━━━━━━━━━━━━━━━━━━\u001b[0m\u001b[37m\u001b[0m \u001b[1m0s\u001b[0m 2ms/step - accuracy: 0.9329 - loss: 0.2059 - val_accuracy: 0.7708 - val_loss: 0.6440\n",
      "Epoch 59/500\n",
      "\u001b[1m12/12\u001b[0m \u001b[32m━━━━━━━━━━━━━━━━━━━━\u001b[0m\u001b[37m\u001b[0m \u001b[1m0s\u001b[0m 2ms/step - accuracy: 0.9618 - loss: 0.1760 - val_accuracy: 0.7500 - val_loss: 0.6206\n",
      "Epoch 60/500\n",
      "\u001b[1m12/12\u001b[0m \u001b[32m━━━━━━━━━━━━━━━━━━━━\u001b[0m\u001b[37m\u001b[0m \u001b[1m0s\u001b[0m 2ms/step - accuracy: 0.9224 - loss: 0.1671 - val_accuracy: 0.7500 - val_loss: 0.5978\n",
      "Epoch 61/500\n",
      "\u001b[1m12/12\u001b[0m \u001b[32m━━━━━━━━━━━━━━━━━━━━\u001b[0m\u001b[37m\u001b[0m \u001b[1m0s\u001b[0m 2ms/step - accuracy: 0.9211 - loss: 0.2206 - val_accuracy: 0.7708 - val_loss: 0.5132\n",
      "Epoch 62/500\n",
      "\u001b[1m12/12\u001b[0m \u001b[32m━━━━━━━━━━━━━━━━━━━━\u001b[0m\u001b[37m\u001b[0m \u001b[1m0s\u001b[0m 2ms/step - accuracy: 0.9419 - loss: 0.1718 - val_accuracy: 0.7708 - val_loss: 0.6213\n",
      "Epoch 63/500\n",
      "\u001b[1m12/12\u001b[0m \u001b[32m━━━━━━━━━━━━━━━━━━━━\u001b[0m\u001b[37m\u001b[0m \u001b[1m0s\u001b[0m 2ms/step - accuracy: 0.9038 - loss: 0.2169 - val_accuracy: 0.6667 - val_loss: 0.6961\n",
      "Epoch 64/500\n",
      "\u001b[1m12/12\u001b[0m \u001b[32m━━━━━━━━━━━━━━━━━━━━\u001b[0m\u001b[37m\u001b[0m \u001b[1m0s\u001b[0m 2ms/step - accuracy: 0.9573 - loss: 0.2108 - val_accuracy: 0.7292 - val_loss: 0.6418\n",
      "Epoch 65/500\n",
      "\u001b[1m12/12\u001b[0m \u001b[32m━━━━━━━━━━━━━━━━━━━━\u001b[0m\u001b[37m\u001b[0m \u001b[1m0s\u001b[0m 2ms/step - accuracy: 0.9278 - loss: 0.2424 - val_accuracy: 0.7500 - val_loss: 0.6980\n",
      "Epoch 66/500\n",
      "\u001b[1m12/12\u001b[0m \u001b[32m━━━━━━━━━━━━━━━━━━━━\u001b[0m\u001b[37m\u001b[0m \u001b[1m0s\u001b[0m 2ms/step - accuracy: 0.9123 - loss: 0.2408 - val_accuracy: 0.7083 - val_loss: 0.6703\n",
      "Epoch 67/500\n",
      "\u001b[1m12/12\u001b[0m \u001b[32m━━━━━━━━━━━━━━━━━━━━\u001b[0m\u001b[37m\u001b[0m \u001b[1m0s\u001b[0m 2ms/step - accuracy: 0.9686 - loss: 0.1237 - val_accuracy: 0.7500 - val_loss: 0.6519\n",
      "Epoch 68/500\n",
      "\u001b[1m12/12\u001b[0m \u001b[32m━━━━━━━━━━━━━━━━━━━━\u001b[0m\u001b[37m\u001b[0m \u001b[1m0s\u001b[0m 2ms/step - accuracy: 0.9419 - loss: 0.1640 - val_accuracy: 0.7500 - val_loss: 0.6886\n",
      "Epoch 69/500\n",
      "\u001b[1m12/12\u001b[0m \u001b[32m━━━━━━━━━━━━━━━━━━━━\u001b[0m\u001b[37m\u001b[0m \u001b[1m0s\u001b[0m 2ms/step - accuracy: 0.9219 - loss: 0.2013 - val_accuracy: 0.7500 - val_loss: 0.6529\n",
      "Epoch 70/500\n",
      "\u001b[1m12/12\u001b[0m \u001b[32m━━━━━━━━━━━━━━━━━━━━\u001b[0m\u001b[37m\u001b[0m \u001b[1m0s\u001b[0m 2ms/step - accuracy: 0.9543 - loss: 0.1720 - val_accuracy: 0.7083 - val_loss: 0.5704\n",
      "Epoch 71/500\n",
      "\u001b[1m12/12\u001b[0m \u001b[32m━━━━━━━━━━━━━━━━━━━━\u001b[0m\u001b[37m\u001b[0m \u001b[1m0s\u001b[0m 2ms/step - accuracy: 0.9167 - loss: 0.1912 - val_accuracy: 0.7500 - val_loss: 0.5666\n",
      "Epoch 72/500\n",
      "\u001b[1m12/12\u001b[0m \u001b[32m━━━━━━━━━━━━━━━━━━━━\u001b[0m\u001b[37m\u001b[0m \u001b[1m0s\u001b[0m 2ms/step - accuracy: 0.9360 - loss: 0.2149 - val_accuracy: 0.7500 - val_loss: 0.5724\n",
      "Epoch 73/500\n",
      "\u001b[1m12/12\u001b[0m \u001b[32m━━━━━━━━━━━━━━━━━━━━\u001b[0m\u001b[37m\u001b[0m \u001b[1m0s\u001b[0m 2ms/step - accuracy: 0.9366 - loss: 0.1487 - val_accuracy: 0.7500 - val_loss: 0.5250\n",
      "Epoch 74/500\n",
      "\u001b[1m12/12\u001b[0m \u001b[32m━━━━━━━━━━━━━━━━━━━━\u001b[0m\u001b[37m\u001b[0m \u001b[1m0s\u001b[0m 2ms/step - accuracy: 0.9462 - loss: 0.1524 - val_accuracy: 0.7917 - val_loss: 0.5782\n",
      "Epoch 75/500\n",
      "\u001b[1m12/12\u001b[0m \u001b[32m━━━━━━━━━━━━━━━━━━━━\u001b[0m\u001b[37m\u001b[0m \u001b[1m0s\u001b[0m 2ms/step - accuracy: 0.9451 - loss: 0.1795 - val_accuracy: 0.7917 - val_loss: 0.5248\n",
      "Epoch 76/500\n",
      "\u001b[1m12/12\u001b[0m \u001b[32m━━━━━━━━━━━━━━━━━━━━\u001b[0m\u001b[37m\u001b[0m \u001b[1m0s\u001b[0m 2ms/step - accuracy: 0.9245 - loss: 0.2250 - val_accuracy: 0.7708 - val_loss: 0.5015\n",
      "Epoch 77/500\n",
      "\u001b[1m12/12\u001b[0m \u001b[32m━━━━━━━━━━━━━━━━━━━━\u001b[0m\u001b[37m\u001b[0m \u001b[1m0s\u001b[0m 2ms/step - accuracy: 0.9108 - loss: 0.2104 - val_accuracy: 0.7083 - val_loss: 0.6448\n",
      "Epoch 78/500\n",
      "\u001b[1m12/12\u001b[0m \u001b[32m━━━━━━━━━━━━━━━━━━━━\u001b[0m\u001b[37m\u001b[0m \u001b[1m0s\u001b[0m 2ms/step - accuracy: 0.9901 - loss: 0.0887 - val_accuracy: 0.7292 - val_loss: 0.6651\n",
      "Epoch 79/500\n",
      "\u001b[1m12/12\u001b[0m \u001b[32m━━━━━━━━━━━━━━━━━━━━\u001b[0m\u001b[37m\u001b[0m \u001b[1m0s\u001b[0m 2ms/step - accuracy: 0.9524 - loss: 0.1489 - val_accuracy: 0.7708 - val_loss: 0.5861\n",
      "Epoch 80/500\n",
      "\u001b[1m12/12\u001b[0m \u001b[32m━━━━━━━━━━━━━━━━━━━━\u001b[0m\u001b[37m\u001b[0m \u001b[1m0s\u001b[0m 2ms/step - accuracy: 0.9490 - loss: 0.1419 - val_accuracy: 0.7500 - val_loss: 0.6577\n",
      "Epoch 81/500\n",
      "\u001b[1m12/12\u001b[0m \u001b[32m━━━━━━━━━━━━━━━━━━━━\u001b[0m\u001b[37m\u001b[0m \u001b[1m0s\u001b[0m 2ms/step - accuracy: 0.9486 - loss: 0.1446 - val_accuracy: 0.7292 - val_loss: 0.7206\n",
      "Epoch 82/500\n",
      "\u001b[1m12/12\u001b[0m \u001b[32m━━━━━━━━━━━━━━━━━━━━\u001b[0m\u001b[37m\u001b[0m \u001b[1m0s\u001b[0m 2ms/step - accuracy: 0.9505 - loss: 0.1862 - val_accuracy: 0.7500 - val_loss: 0.6762\n",
      "Epoch 83/500\n",
      "\u001b[1m12/12\u001b[0m \u001b[32m━━━━━━━━━━━━━━━━━━━━\u001b[0m\u001b[37m\u001b[0m \u001b[1m0s\u001b[0m 2ms/step - accuracy: 0.9307 - loss: 0.1956 - val_accuracy: 0.7500 - val_loss: 0.5889\n",
      "Epoch 84/500\n",
      "\u001b[1m12/12\u001b[0m \u001b[32m━━━━━━━━━━━━━━━━━━━━\u001b[0m\u001b[37m\u001b[0m \u001b[1m0s\u001b[0m 2ms/step - accuracy: 0.9369 - loss: 0.1616 - val_accuracy: 0.7500 - val_loss: 0.6549\n",
      "Epoch 85/500\n",
      "\u001b[1m12/12\u001b[0m \u001b[32m━━━━━━━━━━━━━━━━━━━━\u001b[0m\u001b[37m\u001b[0m \u001b[1m0s\u001b[0m 2ms/step - accuracy: 0.9725 - loss: 0.1001 - val_accuracy: 0.7292 - val_loss: 0.7357\n",
      "Epoch 86/500\n",
      "\u001b[1m12/12\u001b[0m \u001b[32m━━━━━━━━━━━━━━━━━━━━\u001b[0m\u001b[37m\u001b[0m \u001b[1m0s\u001b[0m 2ms/step - accuracy: 0.9623 - loss: 0.1199 - val_accuracy: 0.7500 - val_loss: 0.6952\n",
      "Epoch 87/500\n",
      "\u001b[1m12/12\u001b[0m \u001b[32m━━━━━━━━━━━━━━━━━━━━\u001b[0m\u001b[37m\u001b[0m \u001b[1m0s\u001b[0m 2ms/step - accuracy: 0.9175 - loss: 0.2015 - val_accuracy: 0.7083 - val_loss: 0.6853\n",
      "Epoch 88/500\n",
      "\u001b[1m12/12\u001b[0m \u001b[32m━━━━━━━━━━━━━━━━━━━━\u001b[0m\u001b[37m\u001b[0m \u001b[1m0s\u001b[0m 2ms/step - accuracy: 0.9566 - loss: 0.1280 - val_accuracy: 0.7083 - val_loss: 0.7193\n",
      "Epoch 89/500\n",
      "\u001b[1m12/12\u001b[0m \u001b[32m━━━━━━━━━━━━━━━━━━━━\u001b[0m\u001b[37m\u001b[0m \u001b[1m0s\u001b[0m 2ms/step - accuracy: 0.9489 - loss: 0.1508 - val_accuracy: 0.7708 - val_loss: 0.6535\n",
      "Epoch 90/500\n",
      "\u001b[1m12/12\u001b[0m \u001b[32m━━━━━━━━━━━━━━━━━━━━\u001b[0m\u001b[37m\u001b[0m \u001b[1m0s\u001b[0m 2ms/step - accuracy: 0.9167 - loss: 0.1537 - val_accuracy: 0.7708 - val_loss: 0.7038\n",
      "Epoch 91/500\n",
      "\u001b[1m12/12\u001b[0m \u001b[32m━━━━━━━━━━━━━━━━━━━━\u001b[0m\u001b[37m\u001b[0m \u001b[1m0s\u001b[0m 2ms/step - accuracy: 0.9575 - loss: 0.1322 - val_accuracy: 0.7500 - val_loss: 0.6745\n",
      "Epoch 92/500\n",
      "\u001b[1m12/12\u001b[0m \u001b[32m━━━━━━━━━━━━━━━━━━━━\u001b[0m\u001b[37m\u001b[0m \u001b[1m0s\u001b[0m 2ms/step - accuracy: 0.9100 - loss: 0.2976 - val_accuracy: 0.7083 - val_loss: 0.6800\n",
      "Epoch 93/500\n",
      "\u001b[1m12/12\u001b[0m \u001b[32m━━━━━━━━━━━━━━━━━━━━\u001b[0m\u001b[37m\u001b[0m \u001b[1m0s\u001b[0m 2ms/step - accuracy: 0.9619 - loss: 0.1148 - val_accuracy: 0.7292 - val_loss: 0.7148\n",
      "Epoch 94/500\n",
      "\u001b[1m12/12\u001b[0m \u001b[32m━━━━━━━━━━━━━━━━━━━━\u001b[0m\u001b[37m\u001b[0m \u001b[1m0s\u001b[0m 2ms/step - accuracy: 0.9251 - loss: 0.1976 - val_accuracy: 0.7708 - val_loss: 0.5665\n",
      "Epoch 95/500\n",
      "\u001b[1m12/12\u001b[0m \u001b[32m━━━━━━━━━━━━━━━━━━━━\u001b[0m\u001b[37m\u001b[0m \u001b[1m0s\u001b[0m 2ms/step - accuracy: 0.9441 - loss: 0.1580 - val_accuracy: 0.7500 - val_loss: 0.5948\n",
      "Epoch 96/500\n",
      "\u001b[1m12/12\u001b[0m \u001b[32m━━━━━━━━━━━━━━━━━━━━\u001b[0m\u001b[37m\u001b[0m \u001b[1m0s\u001b[0m 2ms/step - accuracy: 0.9550 - loss: 0.1245 - val_accuracy: 0.7708 - val_loss: 0.6742\n",
      "Epoch 97/500\n",
      "\u001b[1m12/12\u001b[0m \u001b[32m━━━━━━━━━━━━━━━━━━━━\u001b[0m\u001b[37m\u001b[0m \u001b[1m0s\u001b[0m 2ms/step - accuracy: 0.9242 - loss: 0.2050 - val_accuracy: 0.7708 - val_loss: 0.6606\n",
      "Epoch 98/500\n",
      "\u001b[1m12/12\u001b[0m \u001b[32m━━━━━━━━━━━━━━━━━━━━\u001b[0m\u001b[37m\u001b[0m \u001b[1m0s\u001b[0m 2ms/step - accuracy: 0.9268 - loss: 0.2379 - val_accuracy: 0.7500 - val_loss: 0.6289\n",
      "Epoch 99/500\n",
      "\u001b[1m12/12\u001b[0m \u001b[32m━━━━━━━━━━━━━━━━━━━━\u001b[0m\u001b[37m\u001b[0m \u001b[1m0s\u001b[0m 2ms/step - accuracy: 0.9128 - loss: 0.2516 - val_accuracy: 0.7708 - val_loss: 0.5835\n",
      "Epoch 100/500\n",
      "\u001b[1m12/12\u001b[0m \u001b[32m━━━━━━━━━━━━━━━━━━━━\u001b[0m\u001b[37m\u001b[0m \u001b[1m0s\u001b[0m 2ms/step - accuracy: 0.9465 - loss: 0.1243 - val_accuracy: 0.7708 - val_loss: 0.5469\n",
      "Epoch 101/500\n",
      "\u001b[1m12/12\u001b[0m \u001b[32m━━━━━━━━━━━━━━━━━━━━\u001b[0m\u001b[37m\u001b[0m \u001b[1m0s\u001b[0m 2ms/step - accuracy: 0.9661 - loss: 0.1085 - val_accuracy: 0.7708 - val_loss: 0.6127\n",
      "Epoch 102/500\n",
      "\u001b[1m12/12\u001b[0m \u001b[32m━━━━━━━━━━━━━━━━━━━━\u001b[0m\u001b[37m\u001b[0m \u001b[1m0s\u001b[0m 2ms/step - accuracy: 0.9798 - loss: 0.1101 - val_accuracy: 0.7292 - val_loss: 0.6441\n",
      "Epoch 103/500\n",
      "\u001b[1m12/12\u001b[0m \u001b[32m━━━━━━━━━━━━━━━━━━━━\u001b[0m\u001b[37m\u001b[0m \u001b[1m0s\u001b[0m 2ms/step - accuracy: 0.9668 - loss: 0.1340 - val_accuracy: 0.7708 - val_loss: 0.5353\n",
      "Epoch 104/500\n",
      "\u001b[1m12/12\u001b[0m \u001b[32m━━━━━━━━━━━━━━━━━━━━\u001b[0m\u001b[37m\u001b[0m \u001b[1m0s\u001b[0m 2ms/step - accuracy: 0.9748 - loss: 0.0921 - val_accuracy: 0.7708 - val_loss: 0.5510\n",
      "Epoch 105/500\n",
      "\u001b[1m12/12\u001b[0m \u001b[32m━━━━━━━━━━━━━━━━━━━━\u001b[0m\u001b[37m\u001b[0m \u001b[1m0s\u001b[0m 2ms/step - accuracy: 0.9399 - loss: 0.2380 - val_accuracy: 0.7292 - val_loss: 0.5859\n",
      "Epoch 106/500\n",
      "\u001b[1m12/12\u001b[0m \u001b[32m━━━━━━━━━━━━━━━━━━━━\u001b[0m\u001b[37m\u001b[0m \u001b[1m0s\u001b[0m 2ms/step - accuracy: 0.9720 - loss: 0.1221 - val_accuracy: 0.7292 - val_loss: 0.6731\n",
      "Epoch 107/500\n",
      "\u001b[1m12/12\u001b[0m \u001b[32m━━━━━━━━━━━━━━━━━━━━\u001b[0m\u001b[37m\u001b[0m \u001b[1m0s\u001b[0m 2ms/step - accuracy: 0.9395 - loss: 0.1369 - val_accuracy: 0.7708 - val_loss: 0.5810\n"
     ]
    },
    {
     "data": {
      "text/plain": [
       "<keras.src.callbacks.history.History at 0x3209177d0>"
      ]
     },
     "execution_count": 22,
     "metadata": {},
     "output_type": "execute_result"
    }
   ],
   "source": [
    "early_stop = EarlyStopping(monitor='val_loss', patience=100)\n",
    "\n",
    "model.fit(\n",
    "    X_train,\n",
    "    y_train,\n",
    "    epochs = 500,\n",
    "    batch_size = 16, \n",
    "    validation_split=0.2,\n",
    "    callbacks=[early_stop]\n",
    ")"
   ]
  },
  {
   "cell_type": "markdown",
   "id": "4e64458d-c57f-4161-b448-a4a20e151b0d",
   "metadata": {},
   "source": [
    "# Evaluate trained model\n",
    "Task 22"
   ]
  },
  {
   "cell_type": "code",
   "execution_count": 23,
   "id": "18c0c588-ecd9-4091-abc6-2f891e03d987",
   "metadata": {},
   "outputs": [
    {
     "name": "stdout",
     "output_type": "stream",
     "text": [
      "\u001b[1m2/2\u001b[0m \u001b[32m━━━━━━━━━━━━━━━━━━━━\u001b[0m\u001b[37m\u001b[0m \u001b[1m0s\u001b[0m 5ms/step - accuracy: 0.8264 - loss: 0.4884 \n",
      "Final loss:  0.4576593339443207\n",
      "Final accuracy:  0.8333333134651184\n"
     ]
    }
   ],
   "source": [
    "loss, acc = model.evaluate(X_test, y_test)\n",
    "print('Final loss: ', loss)\n",
    "print('Final accuracy: ', acc)"
   ]
  },
  {
   "cell_type": "markdown",
   "id": "365b6cf7-82b7-4a18-b418-1db619666b68",
   "metadata": {},
   "source": [
    "# Get predictions for the test data `X_test`\n",
    "Task 23"
   ]
  },
  {
   "cell_type": "code",
   "execution_count": 24,
   "id": "dbb74d76-4628-4282-96fa-0d85b6a13d52",
   "metadata": {},
   "outputs": [
    {
     "name": "stdout",
     "output_type": "stream",
     "text": [
      "\u001b[1m2/2\u001b[0m \u001b[32m━━━━━━━━━━━━━━━━━━━━\u001b[0m\u001b[37m\u001b[0m \u001b[1m0s\u001b[0m 12ms/step\n"
     ]
    }
   ],
   "source": [
    "y_estimate = model.predict(X_test)"
   ]
  },
  {
   "cell_type": "markdown",
   "id": "77e44981-953f-4d56-bb1c-55efe8ed506b",
   "metadata": {},
   "source": [
    "# Use `argmax()` to select the indices of the true classes for each label encoding in `y_estimate`\n",
    "Task 24\n",
    "\n",
    "If you do not specify the `axis` in `np.argmax(y_estimate, axis=1)`, NumPy will use the default, which is `axis=None`. This means it will find the index of the maximum value in the **flattened** array, not along each row.\n",
    "\n",
    "For one-hot encoded labels, you want the index of the maximum value **for each row** (each sample), which is why you use `axis=1`. If you leave out `axis=1`, you will get a single value, not a vector of class labels for each sample."
   ]
  },
  {
   "cell_type": "code",
   "execution_count": 25,
   "id": "aae242b2-aad9-4062-96ea-7ba4ce7c2843",
   "metadata": {},
   "outputs": [],
   "source": [
    "y_estimate = np.argmax(y_estimate, axis = 1)"
   ]
  },
  {
   "cell_type": "markdown",
   "id": "ebdecb1c-20ab-4621-9270-3dbe0f784fe6",
   "metadata": {},
   "source": [
    "# Use `argmax()` to select the indices of the true classes for each label encoding in `y_test`\n",
    "Task 25\n",
    "\n",
    "If you do not specify the `axis` in `np.argmax(y_test, axis=1)`, NumPy will use the default, which is `axis=None`. This means it will find the index of the maximum value in the **flattened** array, not along each row.\n",
    "\n",
    "For one-hot encoded labels, you want the index of the maximum value **for each row** (each sample), which is why you use `axis=1`. If you leave out `axis=1`, you will get a single value, not a vector of class labels for each sample."
   ]
  },
  {
   "cell_type": "code",
   "execution_count": 26,
   "id": "a3926e17-c00a-4c0b-8a2b-bb3575342dc9",
   "metadata": {},
   "outputs": [],
   "source": [
    "y_true = np.argmax(y_test, axis = 1)"
   ]
  },
  {
   "cell_type": "markdown",
   "id": "53ebbad6-335f-432e-9bba-f582bf7d6b42",
   "metadata": {},
   "source": [
    "# Display classification_report\n",
    "Task 26"
   ]
  },
  {
   "cell_type": "code",
   "execution_count": 27,
   "id": "95bf569e-2f7c-423a-a427-e261def9f324",
   "metadata": {},
   "outputs": [
    {
     "name": "stdout",
     "output_type": "stream",
     "text": [
      "              precision    recall  f1-score   support\n",
      "\n",
      "           0       0.87      0.87      0.87        39\n",
      "           1       0.76      0.76      0.76        21\n",
      "\n",
      "    accuracy                           0.83        60\n",
      "   macro avg       0.82      0.82      0.82        60\n",
      "weighted avg       0.83      0.83      0.83        60\n",
      "\n"
     ]
    }
   ],
   "source": [
    "print(classification_report(y_true, y_estimate))"
   ]
  },
  {
   "cell_type": "code",
   "execution_count": 28,
   "id": "2b9af01d-b3cb-4bba-a743-086d182b0122",
   "metadata": {},
   "outputs": [
    {
     "data": {
      "text/html": [
       "<pre style=\"white-space:pre;overflow-x:auto;line-height:normal;font-family:Menlo,'DejaVu Sans Mono',consolas,'Courier New',monospace\"><span style=\"font-weight: bold\">Model: \"sequential\"</span>\n",
       "</pre>\n"
      ],
      "text/plain": [
       "\u001b[1mModel: \"sequential\"\u001b[0m\n"
      ]
     },
     "metadata": {},
     "output_type": "display_data"
    },
    {
     "data": {
      "text/html": [
       "<pre style=\"white-space:pre;overflow-x:auto;line-height:normal;font-family:Menlo,'DejaVu Sans Mono',consolas,'Courier New',monospace\">┏━━━━━━━━━━━━━━━━━━━━━━━━━━━━━━━━━┳━━━━━━━━━━━━━━━━━━━━━━━━┳━━━━━━━━━━━━━━━┓\n",
       "┃<span style=\"font-weight: bold\"> Layer (type)                    </span>┃<span style=\"font-weight: bold\"> Output Shape           </span>┃<span style=\"font-weight: bold\">       Param # </span>┃\n",
       "┡━━━━━━━━━━━━━━━━━━━━━━━━━━━━━━━━━╇━━━━━━━━━━━━━━━━━━━━━━━━╇━━━━━━━━━━━━━━━┩\n",
       "│ dropout (<span style=\"color: #0087ff; text-decoration-color: #0087ff\">Dropout</span>)               │ (<span style=\"color: #00d7ff; text-decoration-color: #00d7ff\">None</span>, <span style=\"color: #00af00; text-decoration-color: #00af00\">7</span>)              │             <span style=\"color: #00af00; text-decoration-color: #00af00\">0</span> │\n",
       "├─────────────────────────────────┼────────────────────────┼───────────────┤\n",
       "│ dense (<span style=\"color: #0087ff; text-decoration-color: #0087ff\">Dense</span>)                   │ (<span style=\"color: #00d7ff; text-decoration-color: #00d7ff\">None</span>, <span style=\"color: #00af00; text-decoration-color: #00af00\">512</span>)            │         <span style=\"color: #00af00; text-decoration-color: #00af00\">4,096</span> │\n",
       "├─────────────────────────────────┼────────────────────────┼───────────────┤\n",
       "│ dropout_1 (<span style=\"color: #0087ff; text-decoration-color: #0087ff\">Dropout</span>)             │ (<span style=\"color: #00d7ff; text-decoration-color: #00d7ff\">None</span>, <span style=\"color: #00af00; text-decoration-color: #00af00\">512</span>)            │             <span style=\"color: #00af00; text-decoration-color: #00af00\">0</span> │\n",
       "├─────────────────────────────────┼────────────────────────┼───────────────┤\n",
       "│ dense_1 (<span style=\"color: #0087ff; text-decoration-color: #0087ff\">Dense</span>)                 │ (<span style=\"color: #00d7ff; text-decoration-color: #00d7ff\">None</span>, <span style=\"color: #00af00; text-decoration-color: #00af00\">64</span>)             │        <span style=\"color: #00af00; text-decoration-color: #00af00\">32,832</span> │\n",
       "├─────────────────────────────────┼────────────────────────┼───────────────┤\n",
       "│ dropout_2 (<span style=\"color: #0087ff; text-decoration-color: #0087ff\">Dropout</span>)             │ (<span style=\"color: #00d7ff; text-decoration-color: #00d7ff\">None</span>, <span style=\"color: #00af00; text-decoration-color: #00af00\">64</span>)             │             <span style=\"color: #00af00; text-decoration-color: #00af00\">0</span> │\n",
       "├─────────────────────────────────┼────────────────────────┼───────────────┤\n",
       "│ dense_2 (<span style=\"color: #0087ff; text-decoration-color: #0087ff\">Dense</span>)                 │ (<span style=\"color: #00d7ff; text-decoration-color: #00d7ff\">None</span>, <span style=\"color: #00af00; text-decoration-color: #00af00\">16</span>)             │         <span style=\"color: #00af00; text-decoration-color: #00af00\">1,040</span> │\n",
       "├─────────────────────────────────┼────────────────────────┼───────────────┤\n",
       "│ dense_3 (<span style=\"color: #0087ff; text-decoration-color: #0087ff\">Dense</span>)                 │ (<span style=\"color: #00d7ff; text-decoration-color: #00d7ff\">None</span>, <span style=\"color: #00af00; text-decoration-color: #00af00\">2</span>)              │            <span style=\"color: #00af00; text-decoration-color: #00af00\">34</span> │\n",
       "└─────────────────────────────────┴────────────────────────┴───────────────┘\n",
       "</pre>\n"
      ],
      "text/plain": [
       "┏━━━━━━━━━━━━━━━━━━━━━━━━━━━━━━━━━┳━━━━━━━━━━━━━━━━━━━━━━━━┳━━━━━━━━━━━━━━━┓\n",
       "┃\u001b[1m \u001b[0m\u001b[1mLayer (type)                   \u001b[0m\u001b[1m \u001b[0m┃\u001b[1m \u001b[0m\u001b[1mOutput Shape          \u001b[0m\u001b[1m \u001b[0m┃\u001b[1m \u001b[0m\u001b[1m      Param #\u001b[0m\u001b[1m \u001b[0m┃\n",
       "┡━━━━━━━━━━━━━━━━━━━━━━━━━━━━━━━━━╇━━━━━━━━━━━━━━━━━━━━━━━━╇━━━━━━━━━━━━━━━┩\n",
       "│ dropout (\u001b[38;5;33mDropout\u001b[0m)               │ (\u001b[38;5;45mNone\u001b[0m, \u001b[38;5;34m7\u001b[0m)              │             \u001b[38;5;34m0\u001b[0m │\n",
       "├─────────────────────────────────┼────────────────────────┼───────────────┤\n",
       "│ dense (\u001b[38;5;33mDense\u001b[0m)                   │ (\u001b[38;5;45mNone\u001b[0m, \u001b[38;5;34m512\u001b[0m)            │         \u001b[38;5;34m4,096\u001b[0m │\n",
       "├─────────────────────────────────┼────────────────────────┼───────────────┤\n",
       "│ dropout_1 (\u001b[38;5;33mDropout\u001b[0m)             │ (\u001b[38;5;45mNone\u001b[0m, \u001b[38;5;34m512\u001b[0m)            │             \u001b[38;5;34m0\u001b[0m │\n",
       "├─────────────────────────────────┼────────────────────────┼───────────────┤\n",
       "│ dense_1 (\u001b[38;5;33mDense\u001b[0m)                 │ (\u001b[38;5;45mNone\u001b[0m, \u001b[38;5;34m64\u001b[0m)             │        \u001b[38;5;34m32,832\u001b[0m │\n",
       "├─────────────────────────────────┼────────────────────────┼───────────────┤\n",
       "│ dropout_2 (\u001b[38;5;33mDropout\u001b[0m)             │ (\u001b[38;5;45mNone\u001b[0m, \u001b[38;5;34m64\u001b[0m)             │             \u001b[38;5;34m0\u001b[0m │\n",
       "├─────────────────────────────────┼────────────────────────┼───────────────┤\n",
       "│ dense_2 (\u001b[38;5;33mDense\u001b[0m)                 │ (\u001b[38;5;45mNone\u001b[0m, \u001b[38;5;34m16\u001b[0m)             │         \u001b[38;5;34m1,040\u001b[0m │\n",
       "├─────────────────────────────────┼────────────────────────┼───────────────┤\n",
       "│ dense_3 (\u001b[38;5;33mDense\u001b[0m)                 │ (\u001b[38;5;45mNone\u001b[0m, \u001b[38;5;34m2\u001b[0m)              │            \u001b[38;5;34m34\u001b[0m │\n",
       "└─────────────────────────────────┴────────────────────────┴───────────────┘\n"
      ]
     },
     "metadata": {},
     "output_type": "display_data"
    },
    {
     "data": {
      "text/html": [
       "<pre style=\"white-space:pre;overflow-x:auto;line-height:normal;font-family:Menlo,'DejaVu Sans Mono',consolas,'Courier New',monospace\"><span style=\"font-weight: bold\"> Total params: </span><span style=\"color: #00af00; text-decoration-color: #00af00\">114,008</span> (445.35 KB)\n",
       "</pre>\n"
      ],
      "text/plain": [
       "\u001b[1m Total params: \u001b[0m\u001b[38;5;34m114,008\u001b[0m (445.35 KB)\n"
      ]
     },
     "metadata": {},
     "output_type": "display_data"
    },
    {
     "data": {
      "text/html": [
       "<pre style=\"white-space:pre;overflow-x:auto;line-height:normal;font-family:Menlo,'DejaVu Sans Mono',consolas,'Courier New',monospace\"><span style=\"font-weight: bold\"> Trainable params: </span><span style=\"color: #00af00; text-decoration-color: #00af00\">38,002</span> (148.45 KB)\n",
       "</pre>\n"
      ],
      "text/plain": [
       "\u001b[1m Trainable params: \u001b[0m\u001b[38;5;34m38,002\u001b[0m (148.45 KB)\n"
      ]
     },
     "metadata": {},
     "output_type": "display_data"
    },
    {
     "data": {
      "text/html": [
       "<pre style=\"white-space:pre;overflow-x:auto;line-height:normal;font-family:Menlo,'DejaVu Sans Mono',consolas,'Courier New',monospace\"><span style=\"font-weight: bold\"> Non-trainable params: </span><span style=\"color: #00af00; text-decoration-color: #00af00\">0</span> (0.00 B)\n",
       "</pre>\n"
      ],
      "text/plain": [
       "\u001b[1m Non-trainable params: \u001b[0m\u001b[38;5;34m0\u001b[0m (0.00 B)\n"
      ]
     },
     "metadata": {},
     "output_type": "display_data"
    },
    {
     "data": {
      "text/html": [
       "<pre style=\"white-space:pre;overflow-x:auto;line-height:normal;font-family:Menlo,'DejaVu Sans Mono',consolas,'Courier New',monospace\"><span style=\"font-weight: bold\"> Optimizer params: </span><span style=\"color: #00af00; text-decoration-color: #00af00\">76,006</span> (296.90 KB)\n",
       "</pre>\n"
      ],
      "text/plain": [
       "\u001b[1m Optimizer params: \u001b[0m\u001b[38;5;34m76,006\u001b[0m (296.90 KB)\n"
      ]
     },
     "metadata": {},
     "output_type": "display_data"
    }
   ],
   "source": [
    "model.summary()"
   ]
  },
  {
   "cell_type": "code",
   "execution_count": null,
   "id": "eb7379d1-0ce4-4c17-bfbe-40b266aa283e",
   "metadata": {},
   "outputs": [],
   "source": []
  }
 ],
 "metadata": {
  "kernelspec": {
   "display_name": "Python [conda env:base] *",
   "language": "python",
   "name": "conda-base-py"
  },
  "language_info": {
   "codemirror_mode": {
    "name": "ipython",
    "version": 3
   },
   "file_extension": ".py",
   "mimetype": "text/x-python",
   "name": "python",
   "nbconvert_exporter": "python",
   "pygments_lexer": "ipython3",
   "version": "3.12.2"
  }
 },
 "nbformat": 4,
 "nbformat_minor": 5
}
